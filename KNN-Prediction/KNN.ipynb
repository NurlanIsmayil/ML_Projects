{
 "cells": [
  {
   "cell_type": "markdown",
   "id": "a32d83b1",
   "metadata": {},
   "source": [
    "# KNN Project "
   ]
  },
  {
   "cell_type": "markdown",
   "id": "55feff7c",
   "metadata": {},
   "source": [
    "The Chess (King-Rook) dataset is a machine learning dataset that focuses on the context of a specific chess scenario, where a King and Rook are pitted against a lone King. The dataset contains features such as the positions of the Kings and Rook on the chessboard, along with the optimal move to win the game. With its 3,196 instances and 6 attributes, this dataset is suitable for various classification tasks. By applying the k-nearest neighbors (KNN) algorithm on this dataset, it is possible to develop a predictive model that can suggest the optimal move based on the positions of the chess pieces. KNN in the context of this dataset provides a practical approach for decision-making in King-Rook chess scenarios."
   ]
  },
  {
   "cell_type": "markdown",
   "id": "bd927385",
   "metadata": {},
   "source": [
    "###### Loading the Data Set"
   ]
  },
  {
   "cell_type": "code",
   "execution_count": null,
   "id": "f1233123",
   "metadata": {},
   "outputs": [],
   "source": [
    "import numpy as np\n",
    "import pandas as pd\n",
    "import matplotlib.pyplot as plt\n",
    "import seaborn as sns\n",
    "import sklearn\n",
    "import warnings\n",
    "warnings.filterwarnings('ignore')"
   ]
  },
  {
   "cell_type": "code",
   "execution_count": 2,
   "id": "9675c432",
   "metadata": {},
   "outputs": [
    {
     "data": {
      "text/html": [
       "<div>\n",
       "<style scoped>\n",
       "    .dataframe tbody tr th:only-of-type {\n",
       "        vertical-align: middle;\n",
       "    }\n",
       "\n",
       "    .dataframe tbody tr th {\n",
       "        vertical-align: top;\n",
       "    }\n",
       "\n",
       "    .dataframe thead th {\n",
       "        text-align: right;\n",
       "    }\n",
       "</style>\n",
       "<table border=\"1\" class=\"dataframe\">\n",
       "  <thead>\n",
       "    <tr style=\"text-align: right;\">\n",
       "      <th></th>\n",
       "      <th>White_King_file</th>\n",
       "      <th>White_King_rank</th>\n",
       "      <th>White_Rook_file</th>\n",
       "      <th>White_Rook_rank</th>\n",
       "      <th>Black_King_file</th>\n",
       "      <th>Black_King_rank</th>\n",
       "      <th>Optimal_Move</th>\n",
       "    </tr>\n",
       "  </thead>\n",
       "  <tbody>\n",
       "    <tr>\n",
       "      <th>0</th>\n",
       "      <td>a</td>\n",
       "      <td>1</td>\n",
       "      <td>c</td>\n",
       "      <td>1</td>\n",
       "      <td>c</td>\n",
       "      <td>2</td>\n",
       "      <td>draw</td>\n",
       "    </tr>\n",
       "    <tr>\n",
       "      <th>1</th>\n",
       "      <td>a</td>\n",
       "      <td>1</td>\n",
       "      <td>c</td>\n",
       "      <td>1</td>\n",
       "      <td>d</td>\n",
       "      <td>1</td>\n",
       "      <td>draw</td>\n",
       "    </tr>\n",
       "    <tr>\n",
       "      <th>2</th>\n",
       "      <td>a</td>\n",
       "      <td>1</td>\n",
       "      <td>c</td>\n",
       "      <td>1</td>\n",
       "      <td>d</td>\n",
       "      <td>2</td>\n",
       "      <td>draw</td>\n",
       "    </tr>\n",
       "    <tr>\n",
       "      <th>3</th>\n",
       "      <td>a</td>\n",
       "      <td>1</td>\n",
       "      <td>c</td>\n",
       "      <td>2</td>\n",
       "      <td>c</td>\n",
       "      <td>1</td>\n",
       "      <td>draw</td>\n",
       "    </tr>\n",
       "    <tr>\n",
       "      <th>4</th>\n",
       "      <td>a</td>\n",
       "      <td>1</td>\n",
       "      <td>c</td>\n",
       "      <td>2</td>\n",
       "      <td>c</td>\n",
       "      <td>3</td>\n",
       "      <td>draw</td>\n",
       "    </tr>\n",
       "    <tr>\n",
       "      <th>...</th>\n",
       "      <td>...</td>\n",
       "      <td>...</td>\n",
       "      <td>...</td>\n",
       "      <td>...</td>\n",
       "      <td>...</td>\n",
       "      <td>...</td>\n",
       "      <td>...</td>\n",
       "    </tr>\n",
       "    <tr>\n",
       "      <th>28050</th>\n",
       "      <td>b</td>\n",
       "      <td>1</td>\n",
       "      <td>g</td>\n",
       "      <td>7</td>\n",
       "      <td>e</td>\n",
       "      <td>5</td>\n",
       "      <td>sixteen</td>\n",
       "    </tr>\n",
       "    <tr>\n",
       "      <th>28051</th>\n",
       "      <td>b</td>\n",
       "      <td>1</td>\n",
       "      <td>g</td>\n",
       "      <td>7</td>\n",
       "      <td>e</td>\n",
       "      <td>6</td>\n",
       "      <td>sixteen</td>\n",
       "    </tr>\n",
       "    <tr>\n",
       "      <th>28052</th>\n",
       "      <td>b</td>\n",
       "      <td>1</td>\n",
       "      <td>g</td>\n",
       "      <td>7</td>\n",
       "      <td>e</td>\n",
       "      <td>7</td>\n",
       "      <td>sixteen</td>\n",
       "    </tr>\n",
       "    <tr>\n",
       "      <th>28053</th>\n",
       "      <td>b</td>\n",
       "      <td>1</td>\n",
       "      <td>g</td>\n",
       "      <td>7</td>\n",
       "      <td>f</td>\n",
       "      <td>5</td>\n",
       "      <td>sixteen</td>\n",
       "    </tr>\n",
       "    <tr>\n",
       "      <th>28054</th>\n",
       "      <td>b</td>\n",
       "      <td>1</td>\n",
       "      <td>g</td>\n",
       "      <td>7</td>\n",
       "      <td>g</td>\n",
       "      <td>5</td>\n",
       "      <td>sixteen</td>\n",
       "    </tr>\n",
       "  </tbody>\n",
       "</table>\n",
       "<p>28055 rows × 7 columns</p>\n",
       "</div>"
      ],
      "text/plain": [
       "      White_King_file  White_King_rank White_Rook_file  White_Rook_rank  \\\n",
       "0                   a                1               c                1   \n",
       "1                   a                1               c                1   \n",
       "2                   a                1               c                1   \n",
       "3                   a                1               c                2   \n",
       "4                   a                1               c                2   \n",
       "...               ...              ...             ...              ...   \n",
       "28050               b                1               g                7   \n",
       "28051               b                1               g                7   \n",
       "28052               b                1               g                7   \n",
       "28053               b                1               g                7   \n",
       "28054               b                1               g                7   \n",
       "\n",
       "      Black_King_file  Black_King_rank Optimal_Move  \n",
       "0                   c                2         draw  \n",
       "1                   d                1         draw  \n",
       "2                   d                2         draw  \n",
       "3                   c                1         draw  \n",
       "4                   c                3         draw  \n",
       "...               ...              ...          ...  \n",
       "28050               e                5      sixteen  \n",
       "28051               e                6      sixteen  \n",
       "28052               e                7      sixteen  \n",
       "28053               f                5      sixteen  \n",
       "28054               g                5      sixteen  \n",
       "\n",
       "[28055 rows x 7 columns]"
      ]
     },
     "execution_count": 2,
     "metadata": {},
     "output_type": "execute_result"
    }
   ],
   "source": [
    "data = pd.read_csv('C:\\\\Users\\\\Galaxy Computers\\\\Desktop\\\\krkopt.data'); \n",
    "column_names = ['White_King_file', 'White_King_rank', 'White_Rook_file', \n",
    "                'White_Rook_rank', 'Black_King_file', 'Black_King_rank', 'Optimal_Move']\n",
    "data.columns = column_names\n",
    "\n",
    "data"
   ]
  },
  {
   "cell_type": "markdown",
   "id": "b7f531d0",
   "metadata": {},
   "source": [
    "##### Data Understanding "
   ]
  },
  {
   "cell_type": "code",
   "execution_count": 3,
   "id": "9012d38c",
   "metadata": {},
   "outputs": [
    {
     "data": {
      "text/html": [
       "<div>\n",
       "<style scoped>\n",
       "    .dataframe tbody tr th:only-of-type {\n",
       "        vertical-align: middle;\n",
       "    }\n",
       "\n",
       "    .dataframe tbody tr th {\n",
       "        vertical-align: top;\n",
       "    }\n",
       "\n",
       "    .dataframe thead th {\n",
       "        text-align: right;\n",
       "    }\n",
       "</style>\n",
       "<table border=\"1\" class=\"dataframe\">\n",
       "  <thead>\n",
       "    <tr style=\"text-align: right;\">\n",
       "      <th></th>\n",
       "      <th>White_King_rank</th>\n",
       "      <th>White_Rook_rank</th>\n",
       "      <th>Black_King_rank</th>\n",
       "    </tr>\n",
       "  </thead>\n",
       "  <tbody>\n",
       "    <tr>\n",
       "      <th>count</th>\n",
       "      <td>28055.000000</td>\n",
       "      <td>28055.000000</td>\n",
       "      <td>28055.000000</td>\n",
       "    </tr>\n",
       "    <tr>\n",
       "      <th>mean</th>\n",
       "      <td>1.854037</td>\n",
       "      <td>4.512458</td>\n",
       "      <td>4.451898</td>\n",
       "    </tr>\n",
       "    <tr>\n",
       "      <th>std</th>\n",
       "      <td>0.926417</td>\n",
       "      <td>2.282746</td>\n",
       "      <td>2.248379</td>\n",
       "    </tr>\n",
       "    <tr>\n",
       "      <th>min</th>\n",
       "      <td>1.000000</td>\n",
       "      <td>1.000000</td>\n",
       "      <td>1.000000</td>\n",
       "    </tr>\n",
       "    <tr>\n",
       "      <th>25%</th>\n",
       "      <td>1.000000</td>\n",
       "      <td>3.000000</td>\n",
       "      <td>3.000000</td>\n",
       "    </tr>\n",
       "    <tr>\n",
       "      <th>50%</th>\n",
       "      <td>2.000000</td>\n",
       "      <td>5.000000</td>\n",
       "      <td>4.000000</td>\n",
       "    </tr>\n",
       "    <tr>\n",
       "      <th>75%</th>\n",
       "      <td>2.000000</td>\n",
       "      <td>6.000000</td>\n",
       "      <td>6.000000</td>\n",
       "    </tr>\n",
       "    <tr>\n",
       "      <th>max</th>\n",
       "      <td>4.000000</td>\n",
       "      <td>8.000000</td>\n",
       "      <td>8.000000</td>\n",
       "    </tr>\n",
       "  </tbody>\n",
       "</table>\n",
       "</div>"
      ],
      "text/plain": [
       "       White_King_rank  White_Rook_rank  Black_King_rank\n",
       "count     28055.000000     28055.000000     28055.000000\n",
       "mean          1.854037         4.512458         4.451898\n",
       "std           0.926417         2.282746         2.248379\n",
       "min           1.000000         1.000000         1.000000\n",
       "25%           1.000000         3.000000         3.000000\n",
       "50%           2.000000         5.000000         4.000000\n",
       "75%           2.000000         6.000000         6.000000\n",
       "max           4.000000         8.000000         8.000000"
      ]
     },
     "execution_count": 3,
     "metadata": {},
     "output_type": "execute_result"
    }
   ],
   "source": [
    "data.describe()"
   ]
  },
  {
   "cell_type": "code",
   "execution_count": 4,
   "id": "827b28c8",
   "metadata": {},
   "outputs": [
    {
     "data": {
      "text/plain": [
       "Optimal_Move\n",
       "draw        2795\n",
       "eight       1433\n",
       "eleven      2854\n",
       "fifteen     2166\n",
       "five         471\n",
       "four         198\n",
       "fourteen    4553\n",
       "nine        1712\n",
       "one           78\n",
       "seven        683\n",
       "six          592\n",
       "sixteen      390\n",
       "ten         1985\n",
       "thirteen    4194\n",
       "three         81\n",
       "twelve      3597\n",
       "two          246\n",
       "zero          27\n",
       "dtype: int64"
      ]
     },
     "execution_count": 4,
     "metadata": {},
     "output_type": "execute_result"
    }
   ],
   "source": [
    "data.groupby('Optimal_Move').size()"
   ]
  },
  {
   "cell_type": "code",
   "execution_count": 5,
   "id": "452ea051",
   "metadata": {},
   "outputs": [],
   "source": [
    "feature_columns = ['White_King_rank', 'White_Rook_rank', 'Black_King_rank']"
   ]
  },
  {
   "cell_type": "code",
   "execution_count": 6,
   "id": "b5dfec11",
   "metadata": {},
   "outputs": [
    {
     "data": {
      "text/plain": [
       "array([[1, 1, 2],\n",
       "       [1, 1, 1],\n",
       "       [1, 1, 2],\n",
       "       ...,\n",
       "       [1, 7, 7],\n",
       "       [1, 7, 5],\n",
       "       [1, 7, 5]], dtype=int64)"
      ]
     },
     "execution_count": 6,
     "metadata": {},
     "output_type": "execute_result"
    }
   ],
   "source": [
    "X = data[feature_columns].values\n",
    "X"
   ]
  },
  {
   "cell_type": "code",
   "execution_count": 7,
   "id": "bc5e6c66",
   "metadata": {},
   "outputs": [
    {
     "data": {
      "text/plain": [
       "array(['draw', 'draw', 'draw', ..., 'sixteen', 'sixteen', 'sixteen'],\n",
       "      dtype=object)"
      ]
     },
     "execution_count": 7,
     "metadata": {},
     "output_type": "execute_result"
    }
   ],
   "source": [
    "y = data['Optimal_Move'].values\n",
    "y"
   ]
  },
  {
   "cell_type": "code",
   "execution_count": 8,
   "id": "91744b10",
   "metadata": {},
   "outputs": [
    {
     "name": "stdout",
     "output_type": "stream",
     "text": [
      "Optimal_Move_1:\n",
      " ['draw' 'draw' 'draw' 'draw' 'draw' 'draw' 'draw' 'draw' 'draw' 'draw']\n",
      "\n",
      "\n",
      "Optimal_Move_2:\n",
      " ['thirteen' 'thirteen' 'thirteen' 'thirteen' 'thirteen' 'thirteen'\n",
      " 'thirteen' 'thirteen' 'thirteen' 'thirteen']\n",
      "\n",
      "\n",
      "Optimal_Move_3:\n",
      " ['sixteen' 'sixteen' 'sixteen' 'sixteen' 'sixteen' 'sixteen' 'sixteen'\n",
      " 'sixteen' 'sixteen' 'sixteen' 'sixteen' 'sixteen' 'sixteen' 'sixteen'\n",
      " 'sixteen' 'sixteen' 'sixteen' 'sixteen' 'sixteen' 'sixteen' 'sixteen'\n",
      " 'sixteen' 'sixteen' 'sixteen' 'sixteen' 'sixteen' 'sixteen' 'sixteen'\n",
      " 'sixteen' 'sixteen' 'sixteen' 'sixteen' 'sixteen' 'sixteen' 'sixteen'\n",
      " 'sixteen' 'sixteen' 'sixteen' 'sixteen' 'sixteen' 'sixteen' 'sixteen'\n",
      " 'sixteen' 'sixteen' 'sixteen' 'sixteen' 'sixteen' 'sixteen' 'sixteen'\n",
      " 'sixteen' 'sixteen' 'sixteen' 'sixteen' 'sixteen' 'sixteen']\n"
     ]
    }
   ],
   "source": [
    "print('Optimal_Move_1:\\n', y[0:10])\n",
    "print('\\n')\n",
    "print('Optimal_Move_2:\\n', y[20000:20010])\n",
    "print('\\n')\n",
    "print('Optimal_Move_3:\\n', y[28000:28060])"
   ]
  },
  {
   "cell_type": "markdown",
   "id": "061409c2",
   "metadata": {},
   "source": [
    "##### Label Encoding"
   ]
  },
  {
   "cell_type": "code",
   "execution_count": 9,
   "id": "9154897e",
   "metadata": {},
   "outputs": [],
   "source": [
    "from sklearn.preprocessing import LabelEncoder"
   ]
  },
  {
   "cell_type": "code",
   "execution_count": 10,
   "id": "b93c991a",
   "metadata": {},
   "outputs": [],
   "source": [
    "\n",
    "le = LabelEncoder()"
   ]
  },
  {
   "cell_type": "code",
   "execution_count": 11,
   "id": "d310253c",
   "metadata": {},
   "outputs": [],
   "source": [
    "\n",
    "y = le.fit_transform(y)"
   ]
  },
  {
   "cell_type": "code",
   "execution_count": 12,
   "id": "6c133b50",
   "metadata": {},
   "outputs": [
    {
     "name": "stdout",
     "output_type": "stream",
     "text": [
      "Optimal_Move_1:\n",
      " [0 0 0 0 0 0 0 0 0 0]\n",
      "\n",
      "\n",
      "Optimal_Move_2:\n",
      " [13 13 13 13 13 13 13 13 13 13]\n",
      "\n",
      "\n",
      "Optimal_Move_3:\n",
      " [11 11 11 11 11 11 11 11 11 11 11 11 11 11 11 11 11 11 11 11 11 11 11 11\n",
      " 11 11 11 11 11 11 11 11 11 11 11 11 11 11 11 11 11 11 11 11 11 11 11 11\n",
      " 11 11 11 11 11 11 11]\n"
     ]
    }
   ],
   "source": [
    "print('Optimal_Move_1:\\n', y[0:10])\n",
    "print('\\n')\n",
    "print('Optimal_Move_2:\\n', y[20000:20010])\n",
    "print('\\n')\n",
    "print('Optimal_Move_3:\\n', y[28000:28060])"
   ]
  },
  {
   "cell_type": "code",
   "execution_count": 13,
   "id": "56ae3fdc",
   "metadata": {},
   "outputs": [],
   "source": [
    "from sklearn.model_selection import train_test_split"
   ]
  },
  {
   "cell_type": "code",
   "execution_count": 14,
   "id": "cd565b1a",
   "metadata": {},
   "outputs": [],
   "source": [
    "X_train, X_test, y_train, y_test = train_test_split(X, y, \n",
    "                                                    test_size = 0.3, \n",
    "                                                    random_state = 4)"
   ]
  },
  {
   "cell_type": "code",
   "execution_count": 15,
   "id": "10c438b6",
   "metadata": {},
   "outputs": [
    {
     "name": "stdout",
     "output_type": "stream",
     "text": [
      "X_train: (19638, 3)\n",
      "y_train: (19638,)\n"
     ]
    }
   ],
   "source": [
    "print('X_train:', X_train.shape)\n",
    "print('y_train:', y_train.shape)"
   ]
  },
  {
   "cell_type": "code",
   "execution_count": 16,
   "id": "2587a6cf",
   "metadata": {},
   "outputs": [
    {
     "name": "stdout",
     "output_type": "stream",
     "text": [
      "X_test: (8417, 3)\n",
      "y_test: (8417,)\n"
     ]
    }
   ],
   "source": [
    "\n",
    "print('X_test:', X_test.shape)\n",
    "print('y_test:', y_test.shape)"
   ]
  },
  {
   "cell_type": "code",
   "execution_count": 17,
   "id": "dd3faece",
   "metadata": {},
   "outputs": [],
   "source": [
    "columns_to_drop = ['White_King_file', 'White_Rook_file', 'Black_King_file']\n",
    "data = data.drop(columns=columns_to_drop)"
   ]
  },
  {
   "cell_type": "code",
   "execution_count": 18,
   "id": "658dda8f",
   "metadata": {},
   "outputs": [
    {
     "data": {
      "text/html": [
       "<div>\n",
       "<style scoped>\n",
       "    .dataframe tbody tr th:only-of-type {\n",
       "        vertical-align: middle;\n",
       "    }\n",
       "\n",
       "    .dataframe tbody tr th {\n",
       "        vertical-align: top;\n",
       "    }\n",
       "\n",
       "    .dataframe thead th {\n",
       "        text-align: right;\n",
       "    }\n",
       "</style>\n",
       "<table border=\"1\" class=\"dataframe\">\n",
       "  <thead>\n",
       "    <tr style=\"text-align: right;\">\n",
       "      <th></th>\n",
       "      <th>White_King_rank</th>\n",
       "      <th>White_Rook_rank</th>\n",
       "      <th>Black_King_rank</th>\n",
       "      <th>Optimal_Move</th>\n",
       "    </tr>\n",
       "  </thead>\n",
       "  <tbody>\n",
       "    <tr>\n",
       "      <th>0</th>\n",
       "      <td>1</td>\n",
       "      <td>1</td>\n",
       "      <td>2</td>\n",
       "      <td>draw</td>\n",
       "    </tr>\n",
       "    <tr>\n",
       "      <th>1</th>\n",
       "      <td>1</td>\n",
       "      <td>1</td>\n",
       "      <td>1</td>\n",
       "      <td>draw</td>\n",
       "    </tr>\n",
       "    <tr>\n",
       "      <th>2</th>\n",
       "      <td>1</td>\n",
       "      <td>1</td>\n",
       "      <td>2</td>\n",
       "      <td>draw</td>\n",
       "    </tr>\n",
       "    <tr>\n",
       "      <th>3</th>\n",
       "      <td>1</td>\n",
       "      <td>2</td>\n",
       "      <td>1</td>\n",
       "      <td>draw</td>\n",
       "    </tr>\n",
       "    <tr>\n",
       "      <th>4</th>\n",
       "      <td>1</td>\n",
       "      <td>2</td>\n",
       "      <td>3</td>\n",
       "      <td>draw</td>\n",
       "    </tr>\n",
       "  </tbody>\n",
       "</table>\n",
       "</div>"
      ],
      "text/plain": [
       "   White_King_rank  White_Rook_rank  Black_King_rank Optimal_Move\n",
       "0                1                1                2         draw\n",
       "1                1                1                1         draw\n",
       "2                1                1                2         draw\n",
       "3                1                2                1         draw\n",
       "4                1                2                3         draw"
      ]
     },
     "execution_count": 18,
     "metadata": {},
     "output_type": "execute_result"
    }
   ],
   "source": [
    "data.head()"
   ]
  },
  {
   "cell_type": "code",
   "execution_count": null,
   "id": "0ea15a52",
   "metadata": {},
   "outputs": [],
   "source": []
  },
  {
   "cell_type": "code",
   "execution_count": 19,
   "id": "28841e79",
   "metadata": {},
   "outputs": [
    {
     "data": {
      "text/plain": [
       "<Figure size 432x288 with 0 Axes>"
      ]
     },
     "metadata": {},
     "output_type": "display_data"
    },
    {
     "data": {
      "image/png": "[encoded data removed]",
      "text/plain": [
       "<Figure size 727x648 with 12 Axes>"
      ]
     },
     "metadata": {
      "needs_background": "light"
     },
     "output_type": "display_data"
    }
   ],
   "source": [
    "plt.figure()\n",
    "sns.pairplot(data,hue=\"Optimal_Move\", size=3)\n",
    "plt.show()"
   ]
  },
  {
   "cell_type": "code",
   "execution_count": 20,
   "id": "ef017157",
   "metadata": {},
   "outputs": [
    {
     "data": {
      "text/plain": [
       "<Figure size 432x288 with 0 Axes>"
      ]
     },
     "metadata": {},
     "output_type": "display_data"
    },
    {
     "data": {
      "image/png": "[encoded data removed]",
      "text/plain": [
       "<Figure size 1080x720 with 4 Axes>"
      ]
     },
     "metadata": {
      "needs_background": "light"
     },
     "output_type": "display_data"
    }
   ],
   "source": [
    "plt.figure()\n",
    "data.boxplot(by=\"Optimal_Move\", figsize=(15, 10))\n",
    "plt.show()"
   ]
  },
  {
   "cell_type": "markdown",
   "id": "3757bc1e",
   "metadata": {},
   "source": [
    "##### Model Development"
   ]
  },
  {
   "cell_type": "code",
   "execution_count": 21,
   "id": "47448cd3",
   "metadata": {},
   "outputs": [],
   "source": [
    "from sklearn.metrics import accuracy_score\n",
    "from sklearn.neighbors import KNeighborsClassifier\n"
   ]
  },
  {
   "cell_type": "code",
   "execution_count": 22,
   "id": "e83aa12f",
   "metadata": {},
   "outputs": [],
   "source": [
    "def sklearn_knn(train_data, label_data, test_data, k):\n",
    "   \n",
    "    knn = KNeighborsClassifier(n_neighbors=k)\n",
    "    \n",
    "    knn.fit(train_data, label_data)\n",
    "\n",
    "    predict_label = knn.predict(test_data)\n",
    "\n",
    "    return predict_label"
   ]
  },
  {
   "cell_type": "code",
   "execution_count": 34,
   "id": "797781b3",
   "metadata": {},
   "outputs": [
    {
     "data": {
      "text/plain": [
       "array([ 6, 13,  6, ...,  1,  3,  0])"
      ]
     },
     "execution_count": 34,
     "metadata": {},
     "output_type": "execute_result"
    }
   ],
   "source": [
    "y_predict = sklearn_knn(X_train, y_train, X_test, 56)\n",
    "y_predict"
   ]
  },
  {
   "cell_type": "code",
   "execution_count": 35,
   "id": "732ad0bb",
   "metadata": {},
   "outputs": [
    {
     "data": {
      "text/plain": [
       "(8417,)"
      ]
     },
     "execution_count": 35,
     "metadata": {},
     "output_type": "execute_result"
    }
   ],
   "source": [
    "y_predict.shape"
   ]
  },
  {
   "cell_type": "markdown",
   "id": "cb157fb1",
   "metadata": {},
   "source": [
    "##### Measuring Model Accuracy"
   ]
  },
  {
   "cell_type": "code",
   "execution_count": 36,
   "id": "627897fa",
   "metadata": {},
   "outputs": [],
   "source": [
    "def accuracy(test_labels, pred_labels):  \n",
    "\n",
    "    correct = np.sum(test_labels == pred_labels) \n",
    "\n",
    "    n = len(test_labels) \n",
    "\n",
    "    accur = correct / n\n",
    "    \n",
    "    return accur"
   ]
  },
  {
   "cell_type": "code",
   "execution_count": 37,
   "id": "de94b2ac",
   "metadata": {},
   "outputs": [
    {
     "data": {
      "text/plain": [
       "0.32315551859332303"
      ]
     },
     "execution_count": 37,
     "metadata": {},
     "output_type": "execute_result"
    }
   ],
   "source": [
    "\n",
    "accuracy(y_test, y_predict)"
   ]
  },
  {
   "cell_type": "code",
   "execution_count": 38,
   "id": "73e877fe",
   "metadata": {},
   "outputs": [],
   "source": [
    "from sklearn.metrics import accuracy_score"
   ]
  },
  {
   "cell_type": "code",
   "execution_count": 39,
   "id": "f5b90da6",
   "metadata": {},
   "outputs": [],
   "source": [
    "accuracy_sklearn = accuracy_score(y_test, y_predict)*100"
   ]
  },
  {
   "cell_type": "code",
   "execution_count": 40,
   "id": "5b46de03",
   "metadata": {},
   "outputs": [
    {
     "name": "stdout",
     "output_type": "stream",
     "text": [
      "Model Accuracy 32.32 %.\n"
     ]
    }
   ],
   "source": [
    "print('Model Accuracy ' + str(round(accuracy_sklearn, 2)) + ' %.')"
   ]
  },
  {
   "cell_type": "markdown",
   "id": "c4f752d7",
   "metadata": {},
   "source": [
    "#### Choosing the K Value"
   ]
  },
  {
   "cell_type": "code",
   "execution_count": 41,
   "id": "41251343",
   "metadata": {},
   "outputs": [
    {
     "data": {
      "text/plain": [
       "28055"
      ]
     },
     "execution_count": 41,
     "metadata": {},
     "output_type": "execute_result"
    }
   ],
   "source": [
    "n = len(data)\n",
    "n"
   ]
  },
  {
   "cell_type": "code",
   "execution_count": 42,
   "id": "f19bd7bf",
   "metadata": {},
   "outputs": [
    {
     "data": {
      "text/plain": [
       "167.49626861515452"
      ]
     },
     "execution_count": 42,
     "metadata": {},
     "output_type": "execute_result"
    }
   ],
   "source": [
    "import math\n",
    "k_max = math.sqrt(n)\n",
    "k_max"
   ]
  },
  {
   "cell_type": "code",
   "execution_count": 43,
   "id": "6cc46955",
   "metadata": {},
   "outputs": [],
   "source": [
    "normal_accuracy = []  \n",
    "\n",
    "# olabilecek K değerleri\n",
    "k_value = range(1, 167)\n",
    "\n",
    "# döngü ile tek tek K değerlerine bak\n",
    "for k in k_value:\n",
    "    y_predict = sklearn_knn(X_train, y_train, X_test, k)\n",
    "    accur = accuracy_score(y_test, y_predict)\n",
    "    normal_accuracy.append(accur)\n"
   ]
  },
  {
   "cell_type": "code",
   "execution_count": 44,
   "id": "5d76c2fd",
   "metadata": {},
   "outputs": [
    {
     "data": {
      "image/png": "[encoded data removed]",
      "text/plain": [
       "<Figure size 432x288 with 1 Axes>"
      ]
     },
     "metadata": {
      "needs_background": "light"
     },
     "output_type": "display_data"
    }
   ],
   "source": [
    "plt.xlabel(\"k\")\n",
    "plt.ylabel(\"accuracy\")\n",
    "\n",
    "plt.plot(k_value, normal_accuracy, c='g')\n",
    "\n",
    "plt.grid(True)  \n",
    "\n",
    "plt.show()"
   ]
  },
  {
   "cell_type": "code",
   "execution_count": null,
   "id": "3247d5dd",
   "metadata": {},
   "outputs": [],
   "source": []
  },
  {
   "cell_type": "code",
   "execution_count": null,
   "id": "d191e6ad",
   "metadata": {},
   "outputs": [],
   "source": []
  },
  {
   "cell_type": "code",
   "execution_count": null,
   "id": "76217429",
   "metadata": {},
   "outputs": [],
   "source": []
  },
  {
   "cell_type": "code",
   "execution_count": null,
   "id": "1f0011c6",
   "metadata": {},
   "outputs": [],
   "source": []
  },
  {
   "cell_type": "code",
   "execution_count": null,
   "id": "8135c8f1",
   "metadata": {},
   "outputs": [],
   "source": []
  },
  {
   "cell_type": "code",
   "execution_count": null,
   "id": "ce5bf820",
   "metadata": {},
   "outputs": [],
   "source": []
  }
 ],
 "metadata": {
  "kernelspec": {
   "display_name": "Python 3 (ipykernel)",
   "language": "python",
   "name": "python3"
  },
  "language_info": {
   "codemirror_mode": {
    "name": "ipython",
    "version": 3
   },
   "file_extension": ".py",
   "mimetype": "text/x-python",
   "name": "python",
   "nbconvert_exporter": "python",
   "pygments_lexer": "ipython3",
   "version": "3.9.12"
  }
 },
 "nbformat": 4,
 "nbformat_minor": 5
}
