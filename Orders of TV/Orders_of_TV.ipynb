{
 "cells": [
  {
   "cell_type": "markdown",
   "id": "318514d1",
   "metadata": {},
   "source": [
    "#          Import Libraries and Cleaning Data"
   ]
  },
  {
   "cell_type": "code",
   "execution_count": 412,
   "id": "ceb3aab8",
   "metadata": {},
   "outputs": [],
   "source": [
    "import numpy as np\n",
    "import pandas as pd\n",
    "import matplotlib.pyplot as plt\n",
    "import seaborn as sns\n",
    "import statsmodels.api as sm"
   ]
  },
  {
   "cell_type": "code",
   "execution_count": 133,
   "id": "48fc5e36",
   "metadata": {},
   "outputs": [
    {
     "data": {
      "text/html": [
       "<div>\n",
       "<style scoped>\n",
       "    .dataframe tbody tr th:only-of-type {\n",
       "        vertical-align: middle;\n",
       "    }\n",
       "\n",
       "    .dataframe tbody tr th {\n",
       "        vertical-align: top;\n",
       "    }\n",
       "\n",
       "    .dataframe thead th {\n",
       "        text-align: right;\n",
       "    }\n",
       "</style>\n",
       "<table border=\"1\" class=\"dataframe\">\n",
       "  <thead>\n",
       "    <tr style=\"text-align: right;\">\n",
       "      <th></th>\n",
       "      <th>Week of the month (first week, second, third, fourth or fifth week</th>\n",
       "      <th>Day of the week (Monday to Friday)</th>\n",
       "      <th>Non-urgent order</th>\n",
       "      <th>Urgent order</th>\n",
       "      <th>Order type A</th>\n",
       "      <th>Order type B</th>\n",
       "      <th>Order type C</th>\n",
       "      <th>Fiscal sector orders</th>\n",
       "      <th>Orders from the traffic controller sector</th>\n",
       "      <th>Banking orders (1)</th>\n",
       "      <th>Banking orders (2)</th>\n",
       "      <th>Banking orders (3)</th>\n",
       "      <th>Target (Total orders)</th>\n",
       "    </tr>\n",
       "  </thead>\n",
       "  <tbody>\n",
       "    <tr>\n",
       "      <th>0</th>\n",
       "      <td>1</td>\n",
       "      <td>4</td>\n",
       "      <td>316307</td>\n",
       "      <td>223270</td>\n",
       "      <td>61543</td>\n",
       "      <td>175586</td>\n",
       "      <td>302448</td>\n",
       "      <td>0</td>\n",
       "      <td>65556</td>\n",
       "      <td>44914</td>\n",
       "      <td>188411</td>\n",
       "      <td>14793</td>\n",
       "      <td>539577</td>\n",
       "    </tr>\n",
       "    <tr>\n",
       "      <th>1</th>\n",
       "      <td>1</td>\n",
       "      <td>5</td>\n",
       "      <td>128633</td>\n",
       "      <td>96042</td>\n",
       "      <td>38058</td>\n",
       "      <td>56037</td>\n",
       "      <td>130580</td>\n",
       "      <td>0</td>\n",
       "      <td>40419</td>\n",
       "      <td>21399</td>\n",
       "      <td>89461</td>\n",
       "      <td>7679</td>\n",
       "      <td>224675</td>\n",
       "    </tr>\n",
       "    <tr>\n",
       "      <th>2</th>\n",
       "      <td>1</td>\n",
       "      <td>6</td>\n",
       "      <td>43651</td>\n",
       "      <td>84375</td>\n",
       "      <td>21826</td>\n",
       "      <td>25125</td>\n",
       "      <td>82461</td>\n",
       "      <td>1386</td>\n",
       "      <td>11992</td>\n",
       "      <td>3452</td>\n",
       "      <td>21305</td>\n",
       "      <td>14947</td>\n",
       "      <td>129412</td>\n",
       "    </tr>\n",
       "    <tr>\n",
       "      <th>3</th>\n",
       "      <td>2</td>\n",
       "      <td>2</td>\n",
       "      <td>171297</td>\n",
       "      <td>127667</td>\n",
       "      <td>41542</td>\n",
       "      <td>113294</td>\n",
       "      <td>162284</td>\n",
       "      <td>18156</td>\n",
       "      <td>49971</td>\n",
       "      <td>33703</td>\n",
       "      <td>69054</td>\n",
       "      <td>18423</td>\n",
       "      <td>317120</td>\n",
       "    </tr>\n",
       "    <tr>\n",
       "      <th>4</th>\n",
       "      <td>2</td>\n",
       "      <td>3</td>\n",
       "      <td>90532</td>\n",
       "      <td>113526</td>\n",
       "      <td>37679</td>\n",
       "      <td>56618</td>\n",
       "      <td>116220</td>\n",
       "      <td>6459</td>\n",
       "      <td>48534</td>\n",
       "      <td>19646</td>\n",
       "      <td>16411</td>\n",
       "      <td>20257</td>\n",
       "      <td>210517</td>\n",
       "    </tr>\n",
       "  </tbody>\n",
       "</table>\n",
       "</div>"
      ],
      "text/plain": [
       "   Week of the month (first week, second, third, fourth or fifth week  \\\n",
       "0                                                  1                    \n",
       "1                                                  1                    \n",
       "2                                                  1                    \n",
       "3                                                  2                    \n",
       "4                                                  2                    \n",
       "\n",
       "   Day of the week (Monday to Friday)  Non-urgent order  Urgent order  \\\n",
       "0                                   4            316307        223270   \n",
       "1                                   5            128633         96042   \n",
       "2                                   6             43651         84375   \n",
       "3                                   2            171297        127667   \n",
       "4                                   3             90532        113526   \n",
       "\n",
       "   Order type A  Order type B  Order type C  Fiscal sector orders  \\\n",
       "0         61543        175586        302448                     0   \n",
       "1         38058         56037        130580                     0   \n",
       "2         21826         25125         82461                  1386   \n",
       "3         41542        113294        162284                 18156   \n",
       "4         37679         56618        116220                  6459   \n",
       "\n",
       "   Orders from the traffic controller sector  Banking orders (1)  \\\n",
       "0                                      65556               44914   \n",
       "1                                      40419               21399   \n",
       "2                                      11992                3452   \n",
       "3                                      49971               33703   \n",
       "4                                      48534               19646   \n",
       "\n",
       "   Banking orders (2)  Banking orders (3)  Target (Total orders)  \n",
       "0              188411               14793                 539577  \n",
       "1               89461                7679                 224675  \n",
       "2               21305               14947                 129412  \n",
       "3               69054               18423                 317120  \n",
       "4               16411               20257                 210517  "
      ]
     },
     "execution_count": 133,
     "metadata": {},
     "output_type": "execute_result"
    }
   ],
   "source": [
    "Data = pd.read_excel('C:\\\\Users\\\\Galaxy Computers\\\\Desktop\\\\asaa.xlsx');Data.head()"
   ]
  },
  {
   "cell_type": "code",
   "execution_count": 134,
   "id": "d95f8a7b",
   "metadata": {},
   "outputs": [
    {
     "data": {
      "text/html": [
       "<div>\n",
       "<style scoped>\n",
       "    .dataframe tbody tr th:only-of-type {\n",
       "        vertical-align: middle;\n",
       "    }\n",
       "\n",
       "    .dataframe tbody tr th {\n",
       "        vertical-align: top;\n",
       "    }\n",
       "\n",
       "    .dataframe thead th {\n",
       "        text-align: right;\n",
       "    }\n",
       "</style>\n",
       "<table border=\"1\" class=\"dataframe\">\n",
       "  <thead>\n",
       "    <tr style=\"text-align: right;\">\n",
       "      <th></th>\n",
       "      <th>Week of the month (first week, second, third, fourth or fifth week</th>\n",
       "      <th>Day of the week (Monday to Friday)</th>\n",
       "      <th>Non-urgent order</th>\n",
       "      <th>Urgent order</th>\n",
       "      <th>Order type A</th>\n",
       "      <th>Order type B</th>\n",
       "      <th>Order type C</th>\n",
       "      <th>Fiscal sector orders</th>\n",
       "      <th>Orders from the traffic controller sector</th>\n",
       "      <th>Banking orders (1)</th>\n",
       "      <th>Banking orders (2)</th>\n",
       "      <th>Banking orders (3)</th>\n",
       "      <th>Target (Total orders)</th>\n",
       "    </tr>\n",
       "  </thead>\n",
       "  <tbody>\n",
       "    <tr>\n",
       "      <th>55</th>\n",
       "      <td>5</td>\n",
       "      <td>2</td>\n",
       "      <td>158716</td>\n",
       "      <td>158133</td>\n",
       "      <td>59131</td>\n",
       "      <td>92639</td>\n",
       "      <td>165079</td>\n",
       "      <td>0</td>\n",
       "      <td>32027</td>\n",
       "      <td>33282</td>\n",
       "      <td>128269</td>\n",
       "      <td>9287</td>\n",
       "      <td>316849</td>\n",
       "    </tr>\n",
       "    <tr>\n",
       "      <th>56</th>\n",
       "      <td>5</td>\n",
       "      <td>3</td>\n",
       "      <td>150784</td>\n",
       "      <td>133069</td>\n",
       "      <td>54224</td>\n",
       "      <td>115746</td>\n",
       "      <td>116442</td>\n",
       "      <td>2559</td>\n",
       "      <td>51235</td>\n",
       "      <td>34421</td>\n",
       "      <td>87708</td>\n",
       "      <td>11354</td>\n",
       "      <td>286412</td>\n",
       "    </tr>\n",
       "    <tr>\n",
       "      <th>57</th>\n",
       "      <td>5</td>\n",
       "      <td>4</td>\n",
       "      <td>193534</td>\n",
       "      <td>109639</td>\n",
       "      <td>58378</td>\n",
       "      <td>142382</td>\n",
       "      <td>102687</td>\n",
       "      <td>274</td>\n",
       "      <td>28364</td>\n",
       "      <td>88404</td>\n",
       "      <td>91367</td>\n",
       "      <td>15003</td>\n",
       "      <td>303447</td>\n",
       "    </tr>\n",
       "    <tr>\n",
       "      <th>58</th>\n",
       "      <td>5</td>\n",
       "      <td>5</td>\n",
       "      <td>196555</td>\n",
       "      <td>108395</td>\n",
       "      <td>76763</td>\n",
       "      <td>96478</td>\n",
       "      <td>131709</td>\n",
       "      <td>0</td>\n",
       "      <td>37011</td>\n",
       "      <td>109931</td>\n",
       "      <td>50112</td>\n",
       "      <td>12957</td>\n",
       "      <td>304950</td>\n",
       "    </tr>\n",
       "    <tr>\n",
       "      <th>59</th>\n",
       "      <td>5</td>\n",
       "      <td>6</td>\n",
       "      <td>192116</td>\n",
       "      <td>121106</td>\n",
       "      <td>107568</td>\n",
       "      <td>121152</td>\n",
       "      <td>103180</td>\n",
       "      <td>18678</td>\n",
       "      <td>27328</td>\n",
       "      <td>108072</td>\n",
       "      <td>56015</td>\n",
       "      <td>10690</td>\n",
       "      <td>331900</td>\n",
       "    </tr>\n",
       "  </tbody>\n",
       "</table>\n",
       "</div>"
      ],
      "text/plain": [
       "    Week of the month (first week, second, third, fourth or fifth week  \\\n",
       "55                                                  5                    \n",
       "56                                                  5                    \n",
       "57                                                  5                    \n",
       "58                                                  5                    \n",
       "59                                                  5                    \n",
       "\n",
       "    Day of the week (Monday to Friday)  Non-urgent order  Urgent order  \\\n",
       "55                                   2            158716        158133   \n",
       "56                                   3            150784        133069   \n",
       "57                                   4            193534        109639   \n",
       "58                                   5            196555        108395   \n",
       "59                                   6            192116        121106   \n",
       "\n",
       "    Order type A  Order type B  Order type C  Fiscal sector orders  \\\n",
       "55         59131         92639        165079                     0   \n",
       "56         54224        115746        116442                  2559   \n",
       "57         58378        142382        102687                   274   \n",
       "58         76763         96478        131709                     0   \n",
       "59        107568        121152        103180                 18678   \n",
       "\n",
       "    Orders from the traffic controller sector  Banking orders (1)  \\\n",
       "55                                      32027               33282   \n",
       "56                                      51235               34421   \n",
       "57                                      28364               88404   \n",
       "58                                      37011              109931   \n",
       "59                                      27328              108072   \n",
       "\n",
       "    Banking orders (2)  Banking orders (3)  Target (Total orders)  \n",
       "55              128269                9287                 316849  \n",
       "56               87708               11354                 286412  \n",
       "57               91367               15003                 303447  \n",
       "58               50112               12957                 304950  \n",
       "59               56015               10690                 331900  "
      ]
     },
     "execution_count": 134,
     "metadata": {},
     "output_type": "execute_result"
    }
   ],
   "source": [
    "Data.tail()"
   ]
  },
  {
   "cell_type": "code",
   "execution_count": 135,
   "id": "5038bfe1",
   "metadata": {},
   "outputs": [],
   "source": [
    "Data = Data.dropna()"
   ]
  },
  {
   "cell_type": "code",
   "execution_count": 136,
   "id": "c7946784",
   "metadata": {},
   "outputs": [
    {
     "data": {
      "text/plain": [
       "Week of the month (first week, second, third, fourth or fifth week    0\n",
       "Day of the week (Monday to Friday)                                    0\n",
       "Non-urgent order                                                      0\n",
       "Urgent order                                                          0\n",
       "Order type A                                                          0\n",
       "Order type B                                                          0\n",
       "Order type C                                                          0\n",
       "Fiscal sector orders                                                  0\n",
       "Orders from the traffic controller sector                             0\n",
       "Banking orders (1)                                                    0\n",
       "Banking orders (2)                                                    0\n",
       "Banking orders (3)                                                    0\n",
       "Target (Total orders)                                                 0\n",
       "dtype: int64"
      ]
     },
     "execution_count": 136,
     "metadata": {},
     "output_type": "execute_result"
    }
   ],
   "source": [
    "Data.isnull().sum()"
   ]
  },
  {
   "cell_type": "code",
   "execution_count": 137,
   "id": "3cfe569e",
   "metadata": {},
   "outputs": [],
   "source": [
    "data = Data.copy()"
   ]
  },
  {
   "cell_type": "code",
   "execution_count": null,
   "id": "0826210d",
   "metadata": {},
   "outputs": [],
   "source": []
  },
  {
   "cell_type": "code",
   "execution_count": 138,
   "id": "a44dc592",
   "metadata": {},
   "outputs": [
    {
     "data": {
      "text/html": [
       "<div>\n",
       "<style scoped>\n",
       "    .dataframe tbody tr th:only-of-type {\n",
       "        vertical-align: middle;\n",
       "    }\n",
       "\n",
       "    .dataframe tbody tr th {\n",
       "        vertical-align: top;\n",
       "    }\n",
       "\n",
       "    .dataframe thead th {\n",
       "        text-align: right;\n",
       "    }\n",
       "</style>\n",
       "<table border=\"1\" class=\"dataframe\">\n",
       "  <thead>\n",
       "    <tr style=\"text-align: right;\">\n",
       "      <th></th>\n",
       "      <th>Non-urgent order</th>\n",
       "      <th>Order type A</th>\n",
       "      <th>Order type B</th>\n",
       "      <th>Order type C</th>\n",
       "      <th>Banking orders (1)</th>\n",
       "      <th>Banking orders (2)</th>\n",
       "      <th>Banking orders (3)</th>\n",
       "      <th>Target (Total orders)</th>\n",
       "    </tr>\n",
       "  </thead>\n",
       "  <tbody>\n",
       "    <tr>\n",
       "      <th>0</th>\n",
       "      <td>316307</td>\n",
       "      <td>61543</td>\n",
       "      <td>175586</td>\n",
       "      <td>302448</td>\n",
       "      <td>44914</td>\n",
       "      <td>188411</td>\n",
       "      <td>14793</td>\n",
       "      <td>539577</td>\n",
       "    </tr>\n",
       "  </tbody>\n",
       "</table>\n",
       "</div>"
      ],
      "text/plain": [
       "   Non-urgent order  Order type A  Order type B  Order type C  \\\n",
       "0            316307         61543        175586        302448   \n",
       "\n",
       "   Banking orders (1)  Banking orders (2)  Banking orders (3)  \\\n",
       "0               44914              188411               14793   \n",
       "\n",
       "   Target (Total orders)  \n",
       "0                 539577  "
      ]
     },
     "execution_count": 138,
     "metadata": {},
     "output_type": "execute_result"
    }
   ],
   "source": [
    "data = data.drop([\"Week of the month (first week, second, third, fourth or fifth week\", \"Day of the week (Monday to Friday)\",\n",
    "                  \"Urgent order\",\"Fiscal sector orders\",\"Orders from the traffic controller sector\"], axis=1);data.head(1)"
   ]
  },
  {
   "cell_type": "code",
   "execution_count": 139,
   "id": "806a8e8c",
   "metadata": {},
   "outputs": [
    {
     "data": {
      "text/plain": [
       "<AxesSubplot:>"
      ]
     },
     "execution_count": 139,
     "metadata": {},
     "output_type": "execute_result"
    },
    {
     "data": {
      "image/png": "[encoded data removed]",
      "text/plain": [
       "<Figure size 576x432 with 2 Axes>"
      ]
     },
     "metadata": {
      "needs_background": "light"
     },
     "output_type": "display_data"
    }
   ],
   "source": [
    "plt.subplots(figsize=(8, 6))\n",
    "sns.heatmap(data.corr(), annot = True)"
   ]
  },
  {
   "cell_type": "markdown",
   "id": "ec8ba152",
   "metadata": {},
   "source": [
    "# Understanding Data"
   ]
  },
  {
   "cell_type": "code",
   "execution_count": 140,
   "id": "07cfe117",
   "metadata": {},
   "outputs": [],
   "source": [
    "data = data[['Non-urgent order','Order type A','Order type B','Order type C']]"
   ]
  },
  {
   "cell_type": "code",
   "execution_count": 141,
   "id": "0bc7ccab",
   "metadata": {},
   "outputs": [
    {
     "data": {
      "text/html": [
       "<div>\n",
       "<style scoped>\n",
       "    .dataframe tbody tr th:only-of-type {\n",
       "        vertical-align: middle;\n",
       "    }\n",
       "\n",
       "    .dataframe tbody tr th {\n",
       "        vertical-align: top;\n",
       "    }\n",
       "\n",
       "    .dataframe thead th {\n",
       "        text-align: right;\n",
       "    }\n",
       "</style>\n",
       "<table border=\"1\" class=\"dataframe\">\n",
       "  <thead>\n",
       "    <tr style=\"text-align: right;\">\n",
       "      <th></th>\n",
       "      <th>Non-urgent order</th>\n",
       "      <th>Order type A</th>\n",
       "      <th>Order type B</th>\n",
       "      <th>Order type C</th>\n",
       "    </tr>\n",
       "  </thead>\n",
       "  <tbody>\n",
       "    <tr>\n",
       "      <th>0</th>\n",
       "      <td>316307</td>\n",
       "      <td>61543</td>\n",
       "      <td>175586</td>\n",
       "      <td>302448</td>\n",
       "    </tr>\n",
       "    <tr>\n",
       "      <th>1</th>\n",
       "      <td>128633</td>\n",
       "      <td>38058</td>\n",
       "      <td>56037</td>\n",
       "      <td>130580</td>\n",
       "    </tr>\n",
       "    <tr>\n",
       "      <th>2</th>\n",
       "      <td>43651</td>\n",
       "      <td>21826</td>\n",
       "      <td>25125</td>\n",
       "      <td>82461</td>\n",
       "    </tr>\n",
       "    <tr>\n",
       "      <th>3</th>\n",
       "      <td>171297</td>\n",
       "      <td>41542</td>\n",
       "      <td>113294</td>\n",
       "      <td>162284</td>\n",
       "    </tr>\n",
       "    <tr>\n",
       "      <th>4</th>\n",
       "      <td>90532</td>\n",
       "      <td>37679</td>\n",
       "      <td>56618</td>\n",
       "      <td>116220</td>\n",
       "    </tr>\n",
       "  </tbody>\n",
       "</table>\n",
       "</div>"
      ],
      "text/plain": [
       "   Non-urgent order  Order type A  Order type B  Order type C\n",
       "0            316307         61543        175586        302448\n",
       "1            128633         38058         56037        130580\n",
       "2             43651         21826         25125         82461\n",
       "3            171297         41542        113294        162284\n",
       "4             90532         37679         56618        116220"
      ]
     },
     "execution_count": 141,
     "metadata": {},
     "output_type": "execute_result"
    }
   ],
   "source": [
    "data.head()"
   ]
  },
  {
   "cell_type": "code",
   "execution_count": 142,
   "id": "749a26cf",
   "metadata": {},
   "outputs": [
    {
     "data": {
      "text/plain": [
       "<seaborn.axisgrid.PairGrid at 0x20eaf979310>"
      ]
     },
     "execution_count": 142,
     "metadata": {},
     "output_type": "execute_result"
    },
    {
     "data": {
      "image/png": "[encoded data removed]",
      "text/plain": [
       "<Figure size 720x720 with 20 Axes>"
      ]
     },
     "metadata": {
      "needs_background": "light"
     },
     "output_type": "display_data"
    }
   ],
   "source": [
    "sns.pairplot(data)"
   ]
  },
  {
   "cell_type": "markdown",
   "id": "fb94dc24",
   "metadata": {},
   "source": [
    "# Forecasting Sales by Lineer Regression "
   ]
  },
  {
   "cell_type": "code",
   "execution_count": 143,
   "id": "207fb1bf",
   "metadata": {},
   "outputs": [
    {
     "data": {
      "text/plain": [
       "0    175586\n",
       "1     56037\n",
       "2     25125\n",
       "3    113294\n",
       "4     56618\n",
       "Name: Order type B, dtype: int64"
      ]
     },
     "execution_count": 143,
     "metadata": {},
     "output_type": "execute_result"
    }
   ],
   "source": [
    "X = data[\"Order type B\"]\n",
    "X.head()"
   ]
  },
  {
   "cell_type": "code",
   "execution_count": 144,
   "id": "46a20bd1",
   "metadata": {},
   "outputs": [
    {
     "data": {
      "text/plain": [
       "0    316307\n",
       "1    128633\n",
       "2     43651\n",
       "3    171297\n",
       "4     90532\n",
       "Name: Non-urgent order, dtype: int64"
      ]
     },
     "execution_count": 144,
     "metadata": {},
     "output_type": "execute_result"
    }
   ],
   "source": [
    "y = data[\"Non-urgent order\"];y.head()"
   ]
  },
  {
   "cell_type": "code",
   "execution_count": 145,
   "id": "dd6dfb4e",
   "metadata": {},
   "outputs": [],
   "source": [
    "from sklearn.linear_model import LinearRegression\n"
   ]
  },
  {
   "cell_type": "code",
   "execution_count": 146,
   "id": "5fa5a503",
   "metadata": {},
   "outputs": [],
   "source": [
    "lr = LinearRegression()"
   ]
  },
  {
   "cell_type": "code",
   "execution_count": 147,
   "id": "ee8c07f3",
   "metadata": {},
   "outputs": [],
   "source": [
    "y = y.values.reshape(-1,1)"
   ]
  },
  {
   "cell_type": "code",
   "execution_count": 153,
   "id": "aeec93cf",
   "metadata": {},
   "outputs": [],
   "source": [
    "X = X.values.reshape(-1,1)"
   ]
  },
  {
   "cell_type": "code",
   "execution_count": 154,
   "id": "5a42d1e3",
   "metadata": {},
   "outputs": [
    {
     "name": "stdout",
     "output_type": "stream",
     "text": [
      "(60, 1) (60, 1)\n"
     ]
    }
   ],
   "source": [
    "print(X.shape, y.shape)"
   ]
  },
  {
   "cell_type": "code",
   "execution_count": 155,
   "id": "4b639559",
   "metadata": {},
   "outputs": [],
   "source": [
    "from sklearn.model_selection import train_test_split"
   ]
  },
  {
   "cell_type": "code",
   "execution_count": 156,
   "id": "0a475fba",
   "metadata": {},
   "outputs": [],
   "source": [
    "X_train,X_test,y_train,y_test = train_test_split(X,y, test_size=0.30,random_state=100)"
   ]
  },
  {
   "cell_type": "code",
   "execution_count": 157,
   "id": "8f247e3c",
   "metadata": {},
   "outputs": [
    {
     "name": "stdout",
     "output_type": "stream",
     "text": [
      "(42, 1)\n",
      "(42, 1)\n",
      "(18, 1)\n",
      "(18, 1)\n"
     ]
    }
   ],
   "source": [
    "print(X_train.shape)\n",
    "print(y_train.shape)\n",
    "print(X_test.shape)\n",
    "print(y_test.shape)"
   ]
  },
  {
   "cell_type": "code",
   "execution_count": 158,
   "id": "bb36c91c",
   "metadata": {},
   "outputs": [
    {
     "data": {
      "text/plain": [
       "LinearRegression()"
      ]
     },
     "execution_count": 158,
     "metadata": {},
     "output_type": "execute_result"
    }
   ],
   "source": [
    "lr.fit(X_train,y_train)"
   ]
  },
  {
   "cell_type": "code",
   "execution_count": 159,
   "id": "64c47ba3",
   "metadata": {},
   "outputs": [
    {
     "data": {
      "text/html": [
       "<div>\n",
       "<style scoped>\n",
       "    .dataframe tbody tr th:only-of-type {\n",
       "        vertical-align: middle;\n",
       "    }\n",
       "\n",
       "    .dataframe tbody tr th {\n",
       "        vertical-align: top;\n",
       "    }\n",
       "\n",
       "    .dataframe thead th {\n",
       "        text-align: right;\n",
       "    }\n",
       "</style>\n",
       "<table border=\"1\" class=\"dataframe\">\n",
       "  <thead>\n",
       "    <tr style=\"text-align: right;\">\n",
       "      <th></th>\n",
       "      <th>intersept</th>\n",
       "    </tr>\n",
       "  </thead>\n",
       "  <tbody>\n",
       "    <tr>\n",
       "      <th>0</th>\n",
       "      <td>62205.043561</td>\n",
       "    </tr>\n",
       "  </tbody>\n",
       "</table>\n",
       "</div>"
      ],
      "text/plain": [
       "      intersept\n",
       "0  62205.043561"
      ]
     },
     "execution_count": 159,
     "metadata": {},
     "output_type": "execute_result"
    }
   ],
   "source": [
    "pd.DataFrame(lr.intercept_, columns=['intersept'])"
   ]
  },
  {
   "cell_type": "code",
   "execution_count": 160,
   "id": "2045a304",
   "metadata": {},
   "outputs": [
    {
     "data": {
      "text/html": [
       "<div>\n",
       "<style scoped>\n",
       "    .dataframe tbody tr th:only-of-type {\n",
       "        vertical-align: middle;\n",
       "    }\n",
       "\n",
       "    .dataframe tbody tr th {\n",
       "        vertical-align: top;\n",
       "    }\n",
       "\n",
       "    .dataframe thead th {\n",
       "        text-align: right;\n",
       "    }\n",
       "</style>\n",
       "<table border=\"1\" class=\"dataframe\">\n",
       "  <thead>\n",
       "    <tr style=\"text-align: right;\">\n",
       "      <th></th>\n",
       "      <th>0</th>\n",
       "    </tr>\n",
       "  </thead>\n",
       "  <tbody>\n",
       "    <tr>\n",
       "      <th>0</th>\n",
       "      <td>0.980539</td>\n",
       "    </tr>\n",
       "  </tbody>\n",
       "</table>\n",
       "</div>"
      ],
      "text/plain": [
       "          0\n",
       "0  0.980539"
      ]
     },
     "execution_count": 160,
     "metadata": {},
     "output_type": "execute_result"
    }
   ],
   "source": [
    "pd.DataFrame(lr.coef_)"
   ]
  },
  {
   "cell_type": "code",
   "execution_count": 161,
   "id": "17920850",
   "metadata": {},
   "outputs": [],
   "source": [
    "y_pred = lr.predict(X_test)"
   ]
  },
  {
   "cell_type": "code",
   "execution_count": 162,
   "id": "54f74319",
   "metadata": {},
   "outputs": [
    {
     "data": {
      "text/plain": [
       "array([[127192.21496594],\n",
       "       [293855.37882213],\n",
       "       [175492.57672407],\n",
       "       [216817.3853133 ],\n",
       "       [189771.18302794],\n",
       "       [195983.87699451],\n",
       "       [111922.28391457],\n",
       "       [142193.4783805 ],\n",
       "       [180999.2827399 ],\n",
       "       [213445.31230966],\n",
       "       [140645.20758295],\n",
       "       [127284.38561506],\n",
       "       [133239.19787185],\n",
       "       [234373.93289404],\n",
       "       [105311.49118687],\n",
       "       [153041.17935149],\n",
       "       [175698.48987638],\n",
       "       [324344.25290621]])"
      ]
     },
     "execution_count": 162,
     "metadata": {},
     "output_type": "execute_result"
    }
   ],
   "source": [
    "y_pred"
   ]
  },
  {
   "cell_type": "code",
   "execution_count": 163,
   "id": "2c9681c1",
   "metadata": {},
   "outputs": [],
   "source": [
    "from sklearn.metrics import r2_score, mean_squared_error"
   ]
  },
  {
   "cell_type": "code",
   "execution_count": 164,
   "id": "1b0118cd",
   "metadata": {},
   "outputs": [
    {
     "data": {
      "text/plain": [
       "0.7965315435333873"
      ]
     },
     "execution_count": 164,
     "metadata": {},
     "output_type": "execute_result"
    }
   ],
   "source": [
    "r2 = r2_score(y_test,y_pred);r2"
   ]
  },
  {
   "cell_type": "code",
   "execution_count": 165,
   "id": "b885585a",
   "metadata": {},
   "outputs": [
    {
     "data": {
      "text/plain": [
       "1425211746.671294"
      ]
     },
     "execution_count": 165,
     "metadata": {},
     "output_type": "execute_result"
    }
   ],
   "source": [
    "mse = mean_squared_error(y_test,y_pred);mse"
   ]
  },
  {
   "cell_type": "code",
   "execution_count": 166,
   "id": "923964d6",
   "metadata": {},
   "outputs": [
    {
     "data": {
      "text/plain": [
       "37751.97672534902"
      ]
     },
     "execution_count": 166,
     "metadata": {},
     "output_type": "execute_result"
    }
   ],
   "source": [
    "import math\n",
    "rmse = math.sqrt(mse);rmse"
   ]
  },
  {
   "cell_type": "markdown",
   "id": "c2d18d9c",
   "metadata": {},
   "source": [
    "# MINIMIZING SALES BY GRADIENT DESCENT"
   ]
  },
  {
   "cell_type": "code",
   "execution_count": null,
   "id": "10b810d9",
   "metadata": {},
   "outputs": [],
   "source": [
    "\n",
    "\n",
    "def cal_sales (W, X, y):\n",
    "    \n",
    "    n = len(y)\n",
    "    \n",
    "    tahmin = X.dot(W)\n",
    "    \n",
    "    sales = (1/2*n) * np.sum(np.square(tahmin-y))\n",
    "    \n",
    "    return sales\n",
    "    "
   ]
  },
  {
   "cell_type": "code",
   "execution_count": 399,
   "id": "b14da48b",
   "metadata": {},
   "outputs": [],
   "source": [
    "lr = 0.01\n",
    "\n",
    "n_iter = 100\n",
    "\n",
    "W = np.random.randn(2,1)\n",
    "\n",
    "def gradient_descent(X, y, W, learning_rate=0.01, iterations=100):\n",
    "\n",
    "    n = len(y)\n",
    "    cost_history = np.zeros(iterations)\n",
    "    w_history = np.zeros((iterations, 2))\n",
    "    \n",
    "    for it in range(iterations):\n",
    "        \n",
    "        prediction = np.dot(X, W)\n",
    "        \n",
    "        W = W - (1/n) * learning_rate * (X.T.dot((prediction - y)))\n",
    "        \n",
    "        w_history[it,:] = W.T\n",
    "        \n",
    "        cost_history[it] = cal_cost(W, X, y)\n",
    "    \n",
    "    return W, cost_history, w_history\n",
    "    "
   ]
  },
  {
   "cell_type": "code",
   "execution_count": 400,
   "id": "51cc56d2",
   "metadata": {
    "scrolled": true
   },
   "outputs": [
    {
     "name": "stdout",
     "output_type": "stream",
     "text": [
      "[[ 0.60059606]\n",
      " [-0.4108209 ]]\n"
     ]
    }
   ],
   "source": [
    "W = np.random.randn(2,1)\n",
    "print(W)"
   ]
  },
  {
   "cell_type": "code",
   "execution_count": 401,
   "id": "b4affd48",
   "metadata": {
    "scrolled": true
   },
   "outputs": [],
   "source": [
    "lr = 0.01\n",
    "\n",
    "n_iter = 10\n",
    "\n"
   ]
  },
  {
   "cell_type": "code",
   "execution_count": 402,
   "id": "19739902",
   "metadata": {},
   "outputs": [
    {
     "data": {
      "text/plain": [
       "array([[175586],\n",
       "       [ 56037],\n",
       "       [ 25125],\n",
       "       [113294],\n",
       "       [ 56618],\n",
       "       [ 50704],\n",
       "       [ 66371],\n",
       "       [ 85961],\n",
       "       [148274],\n",
       "       [ 43306],\n",
       "       [111036],\n",
       "       [ 66277],\n",
       "       [136434],\n",
       "       [120865],\n",
       "       [136709],\n",
       "       [ 78101],\n",
       "       [ 92272],\n",
       "       [ 71474],\n",
       "       [157681],\n",
       "       [ 80509],\n",
       "       [ 43962],\n",
       "       [ 72444],\n",
       "       [127358],\n",
       "       [139034],\n",
       "       [ 75813],\n",
       "       [ 79997],\n",
       "       [ 75613],\n",
       "       [ 59907],\n",
       "       [236248],\n",
       "       [ 89382],\n",
       "       [148718],\n",
       "       [120548],\n",
       "       [267342],\n",
       "       [154242],\n",
       "       [100544],\n",
       "       [109062],\n",
       "       [260632],\n",
       "       [124660],\n",
       "       [ 99892],\n",
       "       [131165],\n",
       "       [154863],\n",
       "       [ 96870],\n",
       "       [ 69150],\n",
       "       [ 77610],\n",
       "       [ 72826],\n",
       "       [130098],\n",
       "       [ 99072],\n",
       "       [110740],\n",
       "       [240922],\n",
       "       [ 88462],\n",
       "       [135189],\n",
       "       [115536],\n",
       "       [ 81576],\n",
       "       [ 51930],\n",
       "       [ 71353],\n",
       "       [ 92639],\n",
       "       [115746],\n",
       "       [142382],\n",
       "       [ 96478],\n",
       "       [121152]], dtype=int64)"
      ]
     },
     "execution_count": 402,
     "metadata": {},
     "output_type": "execute_result"
    }
   ],
   "source": [
    "X"
   ]
  },
  {
   "cell_type": "code",
   "execution_count": 403,
   "id": "03556c4a",
   "metadata": {
    "scrolled": true
   },
   "outputs": [
    {
     "name": "stdout",
     "output_type": "stream",
     "text": [
      "[[1.00000e+00 1.75586e+05]\n",
      " [1.00000e+00 5.60370e+04]\n",
      " [1.00000e+00 2.51250e+04]\n",
      " [1.00000e+00 1.13294e+05]\n",
      " [1.00000e+00 5.66180e+04]\n",
      " [1.00000e+00 5.07040e+04]\n",
      " [1.00000e+00 6.63710e+04]\n",
      " [1.00000e+00 8.59610e+04]\n",
      " [1.00000e+00 1.48274e+05]\n",
      " [1.00000e+00 4.33060e+04]\n",
      " [1.00000e+00 1.11036e+05]\n",
      " [1.00000e+00 6.62770e+04]\n",
      " [1.00000e+00 1.36434e+05]\n",
      " [1.00000e+00 1.20865e+05]\n",
      " [1.00000e+00 1.36709e+05]\n",
      " [1.00000e+00 7.81010e+04]\n",
      " [1.00000e+00 9.22720e+04]\n",
      " [1.00000e+00 7.14740e+04]\n",
      " [1.00000e+00 1.57681e+05]\n",
      " [1.00000e+00 8.05090e+04]\n",
      " [1.00000e+00 4.39620e+04]\n",
      " [1.00000e+00 7.24440e+04]\n",
      " [1.00000e+00 1.27358e+05]\n",
      " [1.00000e+00 1.39034e+05]\n",
      " [1.00000e+00 7.58130e+04]\n",
      " [1.00000e+00 7.99970e+04]\n",
      " [1.00000e+00 7.56130e+04]\n",
      " [1.00000e+00 5.99070e+04]\n",
      " [1.00000e+00 2.36248e+05]\n",
      " [1.00000e+00 8.93820e+04]\n",
      " [1.00000e+00 1.48718e+05]\n",
      " [1.00000e+00 1.20548e+05]\n",
      " [1.00000e+00 2.67342e+05]\n",
      " [1.00000e+00 1.54242e+05]\n",
      " [1.00000e+00 1.00544e+05]\n",
      " [1.00000e+00 1.09062e+05]\n",
      " [1.00000e+00 2.60632e+05]\n",
      " [1.00000e+00 1.24660e+05]\n",
      " [1.00000e+00 9.98920e+04]\n",
      " [1.00000e+00 1.31165e+05]\n",
      " [1.00000e+00 1.54863e+05]\n",
      " [1.00000e+00 9.68700e+04]\n",
      " [1.00000e+00 6.91500e+04]\n",
      " [1.00000e+00 7.76100e+04]\n",
      " [1.00000e+00 7.28260e+04]\n",
      " [1.00000e+00 1.30098e+05]\n",
      " [1.00000e+00 9.90720e+04]\n",
      " [1.00000e+00 1.10740e+05]\n",
      " [1.00000e+00 2.40922e+05]\n",
      " [1.00000e+00 8.84620e+04]\n",
      " [1.00000e+00 1.35189e+05]\n",
      " [1.00000e+00 1.15536e+05]\n",
      " [1.00000e+00 8.15760e+04]\n",
      " [1.00000e+00 5.19300e+04]\n",
      " [1.00000e+00 7.13530e+04]\n",
      " [1.00000e+00 9.26390e+04]\n",
      " [1.00000e+00 1.15746e+05]\n",
      " [1.00000e+00 1.42382e+05]\n",
      " [1.00000e+00 9.64780e+04]\n",
      " [1.00000e+00 1.21152e+05]]\n"
     ]
    }
   ],
   "source": [
    "n = len(X)\n",
    "\n",
    "X_b = np.c_[np.ones((n,1)), X]\n",
    "                \n",
    "print(X_b)"
   ]
  },
  {
   "cell_type": "code",
   "execution_count": 404,
   "id": "918edc63",
   "metadata": {},
   "outputs": [],
   "source": [
    "W_final, cost_history, w_history = gradient_descent(X_b, y, W, lr, n_iter)"
   ]
  },
  {
   "cell_type": "code",
   "execution_count": 405,
   "id": "d0a22873",
   "metadata": {},
   "outputs": [
    {
     "name": "stdout",
     "output_type": "stream",
     "text": [
      "W final: [[-5.78390978e+76]\n",
      " [-7.65837576e+81]]\n"
     ]
    }
   ],
   "source": [
    "print('W final:', W_final)"
   ]
  },
  {
   "cell_type": "code",
   "execution_count": 406,
   "id": "b899c636",
   "metadata": {},
   "outputs": [
    {
     "name": "stdout",
     "output_type": "stream",
     "text": [
      "Sales History: [1.99152346e+030 4.16580003e+046 8.71387668e+062 1.82273864e+079\n",
      " 3.81274176e+095 7.97536159e+111 1.66825860e+128 3.48960576e+144\n",
      " 7.29943685e+160 1.52687100e+177]\n"
     ]
    }
   ],
   "source": [
    "print('Sales History:', cost_history)"
   ]
  },
  {
   "cell_type": "code",
   "execution_count": 407,
   "id": "26b2a28b",
   "metadata": {},
   "outputs": [
    {
     "name": "stdout",
     "output_type": "stream",
     "text": [
      "Initial Sales : 1.9915234630796165e+30\n",
      "Final Sales: 1.526871000635402e+177\n"
     ]
    }
   ],
   "source": [
    "print('Initial Sales :', cost_history[0])\n",
    "print('Final Sales:', cost_history[-1])"
   ]
  },
  {
   "cell_type": "code",
   "execution_count": 408,
   "id": "5bf22576",
   "metadata": {},
   "outputs": [
    {
     "name": "stdout",
     "output_type": "stream",
     "text": [
      "W_0: [0.60059606]\n",
      "W_0_final: [-5.78390978e+76]\n"
     ]
    }
   ],
   "source": [
    "W_0 = W[0]\n",
    "print('W_0:', W_0)\n",
    "\n",
    "W_0_final = W_final[0]\n",
    "print('W_0_final:', W_0_final)"
   ]
  },
  {
   "cell_type": "code",
   "execution_count": 409,
   "id": "cc32857b",
   "metadata": {},
   "outputs": [
    {
     "name": "stdout",
     "output_type": "stream",
     "text": [
      "W_1: [-0.4108209]\n",
      "W_1_final: [-7.65837576e+81]\n"
     ]
    }
   ],
   "source": [
    "W_1 = W[1]\n",
    "print('W_1:', W_1)\n",
    "\n",
    "W_1_final = W_final[1]\n",
    "print('W_1_final:', W_1_final)"
   ]
  },
  {
   "cell_type": "code",
   "execution_count": 410,
   "id": "e4ecd9df",
   "metadata": {},
   "outputs": [],
   "source": [
    "def cost_vs_iterations(cost_history, n_iter):\n",
    "    \n",
    "    fig, ax = plt.subplots(figsize=(12,8))\n",
    "\n",
    "    plt.plot(range(n_iter), cost_history)\n",
    "\n",
    "    plt.xlabel('Iterations')\n",
    "    plt.ylabel('J(W)')\n",
    "    plt.title('TV - Sales')\n",
    "    plt.grid()\n",
    "    plt.show()"
   ]
  },
  {
   "cell_type": "code",
   "execution_count": 411,
   "id": "dc3eb701",
   "metadata": {},
   "outputs": [
    {
     "data": {
      "image/png": "[encoded data removed]",
      "text/plain": [
       "<Figure size 864x576 with 1 Axes>"
      ]
     },
     "metadata": {
      "needs_background": "light"
     },
     "output_type": "display_data"
    }
   ],
   "source": [
    "cost_vs_iterations(cost_history, n_iter)"
   ]
  }
 ],
 "metadata": {
  "kernelspec": {
   "display_name": "Python 3 (ipykernel)",
   "language": "python",
   "name": "python3"
  },
  "language_info": {
   "codemirror_mode": {
    "name": "ipython",
    "version": 3
   },
   "file_extension": ".py",
   "mimetype": "text/x-python",
   "name": "python",
   "nbconvert_exporter": "python",
   "pygments_lexer": "ipython3",
   "version": "3.9.12"
  }
 },
 "nbformat": 4,
 "nbformat_minor": 5
}
