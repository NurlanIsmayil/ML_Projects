{
 "cells": [
  {
   "cell_type": "markdown",
   "id": "db53eb35",
   "metadata": {},
   "source": [
    "# Prediction Premis Cd by Los-Angles Crime Dataset"
   ]
  },
  {
   "cell_type": "code",
   "execution_count": null,
   "id": "f35d9176",
   "metadata": {},
   "outputs": [],
   "source": []
  },
  {
   "cell_type": "code",
   "execution_count": 334,
   "id": "318e5ae2",
   "metadata": {},
   "outputs": [],
   "source": [
    "import pandas as pd\n",
    "import numpy as np\n",
    "from numpy import absolute\n",
    "import matplotlib.pyplot as plt\n",
    "import seaborn as sns\n",
    "import sklearn\n",
    "import warnings\n",
    "warnings.filterwarnings('ignore')\n",
    "\n",
    "from sklearn.preprocessing import LabelEncoder\n",
    "from sklearn.preprocessing import OrdinalEncoder\n",
    "from sklearn.preprocessing import OneHotEncoder\n",
    "from sklearn.preprocessing import QuantileTransformer\n",
    "from sklearn.preprocessing import StandardScaler\n",
    "from sklearn.impute import SimpleImputer\n",
    "from sklearn.preprocessing import PowerTransformer\n",
    "from sklearn.feature_selection import SelectKBest, f_regression, mutual_info_regression\n",
    "from sklearn.model_selection import train_test_split\n",
    "from sklearn.tree import DecisionTreeRegressor\n",
    "from sklearn.metrics import mean_absolute_error, mean_squared_error, explained_variance_score,r2_score\n",
    "from sklearn.model_selection import cross_val_score\n",
    "from yellowbrick.regressor import PredictionError\n",
    "from yellowbrick.regressor import ResidualsPlot"
   ]
  },
  {
   "cell_type": "markdown",
   "id": "5c84824e",
   "metadata": {},
   "source": [
    "### Import  Data Set"
   ]
  },
  {
   "cell_type": "code",
   "execution_count": 237,
   "id": "f2896bb4",
   "metadata": {},
   "outputs": [],
   "source": [
    "df = pd.read_csv('C:\\\\Users\\\\Galaxy Computers\\\\Desktop\\\\Crime_Data_from_2020_to_Present.csv')"
   ]
  },
  {
   "cell_type": "markdown",
   "id": "f3f4c8f0",
   "metadata": {},
   "source": [
    "### Data Statistics "
   ]
  },
  {
   "cell_type": "code",
   "execution_count": 238,
   "id": "c88c6131",
   "metadata": {},
   "outputs": [
    {
     "data": {
      "text/html": [
       "<div>\n",
       "<style scoped>\n",
       "    .dataframe tbody tr th:only-of-type {\n",
       "        vertical-align: middle;\n",
       "    }\n",
       "\n",
       "    .dataframe tbody tr th {\n",
       "        vertical-align: top;\n",
       "    }\n",
       "\n",
       "    .dataframe thead th {\n",
       "        text-align: right;\n",
       "    }\n",
       "</style>\n",
       "<table border=\"1\" class=\"dataframe\">\n",
       "  <thead>\n",
       "    <tr style=\"text-align: right;\">\n",
       "      <th></th>\n",
       "      <th>DR_NO</th>\n",
       "      <th>Date Rptd</th>\n",
       "      <th>DATE OCC</th>\n",
       "      <th>TIME OCC</th>\n",
       "      <th>AREA</th>\n",
       "      <th>AREA NAME</th>\n",
       "      <th>Rpt Dist No</th>\n",
       "      <th>Part 1-2</th>\n",
       "      <th>Crm Cd</th>\n",
       "      <th>Crm Cd Desc</th>\n",
       "      <th>...</th>\n",
       "      <th>Status</th>\n",
       "      <th>Status Desc</th>\n",
       "      <th>Crm Cd 1</th>\n",
       "      <th>Crm Cd 2</th>\n",
       "      <th>Crm Cd 3</th>\n",
       "      <th>Crm Cd 4</th>\n",
       "      <th>LOCATION</th>\n",
       "      <th>Cross Street</th>\n",
       "      <th>LAT</th>\n",
       "      <th>LON</th>\n",
       "    </tr>\n",
       "  </thead>\n",
       "  <tbody>\n",
       "    <tr>\n",
       "      <th>0</th>\n",
       "      <td>10304468</td>\n",
       "      <td>01/08/2020 12:00:00 AM</td>\n",
       "      <td>01/08/2020 12:00:00 AM</td>\n",
       "      <td>2230</td>\n",
       "      <td>3</td>\n",
       "      <td>Southwest</td>\n",
       "      <td>377</td>\n",
       "      <td>2</td>\n",
       "      <td>624</td>\n",
       "      <td>BATTERY - SIMPLE ASSAULT</td>\n",
       "      <td>...</td>\n",
       "      <td>AO</td>\n",
       "      <td>Adult Other</td>\n",
       "      <td>624.0</td>\n",
       "      <td>NaN</td>\n",
       "      <td>NaN</td>\n",
       "      <td>NaN</td>\n",
       "      <td>1100 W  39TH                         PL</td>\n",
       "      <td>NaN</td>\n",
       "      <td>34.0141</td>\n",
       "      <td>-118.2978</td>\n",
       "    </tr>\n",
       "    <tr>\n",
       "      <th>1</th>\n",
       "      <td>190101086</td>\n",
       "      <td>01/02/2020 12:00:00 AM</td>\n",
       "      <td>01/01/2020 12:00:00 AM</td>\n",
       "      <td>330</td>\n",
       "      <td>1</td>\n",
       "      <td>Central</td>\n",
       "      <td>163</td>\n",
       "      <td>2</td>\n",
       "      <td>624</td>\n",
       "      <td>BATTERY - SIMPLE ASSAULT</td>\n",
       "      <td>...</td>\n",
       "      <td>IC</td>\n",
       "      <td>Invest Cont</td>\n",
       "      <td>624.0</td>\n",
       "      <td>NaN</td>\n",
       "      <td>NaN</td>\n",
       "      <td>NaN</td>\n",
       "      <td>700 S  HILL                         ST</td>\n",
       "      <td>NaN</td>\n",
       "      <td>34.0459</td>\n",
       "      <td>-118.2545</td>\n",
       "    </tr>\n",
       "    <tr>\n",
       "      <th>2</th>\n",
       "      <td>200110444</td>\n",
       "      <td>04/14/2020 12:00:00 AM</td>\n",
       "      <td>02/13/2020 12:00:00 AM</td>\n",
       "      <td>1200</td>\n",
       "      <td>1</td>\n",
       "      <td>Central</td>\n",
       "      <td>155</td>\n",
       "      <td>2</td>\n",
       "      <td>845</td>\n",
       "      <td>SEX OFFENDER REGISTRANT OUT OF COMPLIANCE</td>\n",
       "      <td>...</td>\n",
       "      <td>AA</td>\n",
       "      <td>Adult Arrest</td>\n",
       "      <td>845.0</td>\n",
       "      <td>NaN</td>\n",
       "      <td>NaN</td>\n",
       "      <td>NaN</td>\n",
       "      <td>200 E  6TH                          ST</td>\n",
       "      <td>NaN</td>\n",
       "      <td>34.0448</td>\n",
       "      <td>-118.2474</td>\n",
       "    </tr>\n",
       "    <tr>\n",
       "      <th>3</th>\n",
       "      <td>191501505</td>\n",
       "      <td>01/01/2020 12:00:00 AM</td>\n",
       "      <td>01/01/2020 12:00:00 AM</td>\n",
       "      <td>1730</td>\n",
       "      <td>15</td>\n",
       "      <td>N Hollywood</td>\n",
       "      <td>1543</td>\n",
       "      <td>2</td>\n",
       "      <td>745</td>\n",
       "      <td>VANDALISM - MISDEAMEANOR ($399 OR UNDER)</td>\n",
       "      <td>...</td>\n",
       "      <td>IC</td>\n",
       "      <td>Invest Cont</td>\n",
       "      <td>745.0</td>\n",
       "      <td>998.0</td>\n",
       "      <td>NaN</td>\n",
       "      <td>NaN</td>\n",
       "      <td>5400    CORTEEN                      PL</td>\n",
       "      <td>NaN</td>\n",
       "      <td>34.1685</td>\n",
       "      <td>-118.4019</td>\n",
       "    </tr>\n",
       "    <tr>\n",
       "      <th>4</th>\n",
       "      <td>191921269</td>\n",
       "      <td>01/01/2020 12:00:00 AM</td>\n",
       "      <td>01/01/2020 12:00:00 AM</td>\n",
       "      <td>415</td>\n",
       "      <td>19</td>\n",
       "      <td>Mission</td>\n",
       "      <td>1998</td>\n",
       "      <td>2</td>\n",
       "      <td>740</td>\n",
       "      <td>VANDALISM - FELONY ($400 &amp; OVER, ALL CHURCH VA...</td>\n",
       "      <td>...</td>\n",
       "      <td>IC</td>\n",
       "      <td>Invest Cont</td>\n",
       "      <td>740.0</td>\n",
       "      <td>NaN</td>\n",
       "      <td>NaN</td>\n",
       "      <td>NaN</td>\n",
       "      <td>14400    TITUS                        ST</td>\n",
       "      <td>NaN</td>\n",
       "      <td>34.2198</td>\n",
       "      <td>-118.4468</td>\n",
       "    </tr>\n",
       "  </tbody>\n",
       "</table>\n",
       "<p>5 rows × 28 columns</p>\n",
       "</div>"
      ],
      "text/plain": [
       "       DR_NO               Date Rptd                DATE OCC  TIME OCC  AREA  \\\n",
       "0   10304468  01/08/2020 12:00:00 AM  01/08/2020 12:00:00 AM      2230     3   \n",
       "1  190101086  01/02/2020 12:00:00 AM  01/01/2020 12:00:00 AM       330     1   \n",
       "2  200110444  04/14/2020 12:00:00 AM  02/13/2020 12:00:00 AM      1200     1   \n",
       "3  191501505  01/01/2020 12:00:00 AM  01/01/2020 12:00:00 AM      1730    15   \n",
       "4  191921269  01/01/2020 12:00:00 AM  01/01/2020 12:00:00 AM       415    19   \n",
       "\n",
       "     AREA NAME  Rpt Dist No  Part 1-2  Crm Cd  \\\n",
       "0    Southwest          377         2     624   \n",
       "1      Central          163         2     624   \n",
       "2      Central          155         2     845   \n",
       "3  N Hollywood         1543         2     745   \n",
       "4      Mission         1998         2     740   \n",
       "\n",
       "                                         Crm Cd Desc  ... Status  \\\n",
       "0                           BATTERY - SIMPLE ASSAULT  ...     AO   \n",
       "1                           BATTERY - SIMPLE ASSAULT  ...     IC   \n",
       "2          SEX OFFENDER REGISTRANT OUT OF COMPLIANCE  ...     AA   \n",
       "3           VANDALISM - MISDEAMEANOR ($399 OR UNDER)  ...     IC   \n",
       "4  VANDALISM - FELONY ($400 & OVER, ALL CHURCH VA...  ...     IC   \n",
       "\n",
       "    Status Desc Crm Cd 1 Crm Cd 2  Crm Cd 3 Crm Cd 4  \\\n",
       "0   Adult Other    624.0      NaN       NaN      NaN   \n",
       "1   Invest Cont    624.0      NaN       NaN      NaN   \n",
       "2  Adult Arrest    845.0      NaN       NaN      NaN   \n",
       "3   Invest Cont    745.0    998.0       NaN      NaN   \n",
       "4   Invest Cont    740.0      NaN       NaN      NaN   \n",
       "\n",
       "                                   LOCATION Cross Street      LAT       LON  \n",
       "0   1100 W  39TH                         PL          NaN  34.0141 -118.2978  \n",
       "1    700 S  HILL                         ST          NaN  34.0459 -118.2545  \n",
       "2    200 E  6TH                          ST          NaN  34.0448 -118.2474  \n",
       "3   5400    CORTEEN                      PL          NaN  34.1685 -118.4019  \n",
       "4  14400    TITUS                        ST          NaN  34.2198 -118.4468  \n",
       "\n",
       "[5 rows x 28 columns]"
      ]
     },
     "execution_count": 238,
     "metadata": {},
     "output_type": "execute_result"
    }
   ],
   "source": [
    "df.head()"
   ]
  },
  {
   "cell_type": "code",
   "execution_count": 239,
   "id": "f1ab6b2f",
   "metadata": {},
   "outputs": [
    {
     "data": {
      "text/html": [
       "<div>\n",
       "<style scoped>\n",
       "    .dataframe tbody tr th:only-of-type {\n",
       "        vertical-align: middle;\n",
       "    }\n",
       "\n",
       "    .dataframe tbody tr th {\n",
       "        vertical-align: top;\n",
       "    }\n",
       "\n",
       "    .dataframe thead th {\n",
       "        text-align: right;\n",
       "    }\n",
       "</style>\n",
       "<table border=\"1\" class=\"dataframe\">\n",
       "  <thead>\n",
       "    <tr style=\"text-align: right;\">\n",
       "      <th></th>\n",
       "      <th>DR_NO</th>\n",
       "      <th>Date Rptd</th>\n",
       "      <th>DATE OCC</th>\n",
       "      <th>TIME OCC</th>\n",
       "      <th>AREA</th>\n",
       "      <th>AREA NAME</th>\n",
       "      <th>Rpt Dist No</th>\n",
       "      <th>Part 1-2</th>\n",
       "      <th>Crm Cd</th>\n",
       "      <th>Crm Cd Desc</th>\n",
       "      <th>...</th>\n",
       "      <th>Status</th>\n",
       "      <th>Status Desc</th>\n",
       "      <th>Crm Cd 1</th>\n",
       "      <th>Crm Cd 2</th>\n",
       "      <th>Crm Cd 3</th>\n",
       "      <th>Crm Cd 4</th>\n",
       "      <th>LOCATION</th>\n",
       "      <th>Cross Street</th>\n",
       "      <th>LAT</th>\n",
       "      <th>LON</th>\n",
       "    </tr>\n",
       "  </thead>\n",
       "  <tbody>\n",
       "    <tr>\n",
       "      <th>752907</th>\n",
       "      <td>231604807</td>\n",
       "      <td>01/27/2023 12:00:00 AM</td>\n",
       "      <td>01/26/2023 12:00:00 AM</td>\n",
       "      <td>1800</td>\n",
       "      <td>16</td>\n",
       "      <td>Foothill</td>\n",
       "      <td>1663</td>\n",
       "      <td>2</td>\n",
       "      <td>740</td>\n",
       "      <td>VANDALISM - FELONY ($400 &amp; OVER, ALL CHURCH VA...</td>\n",
       "      <td>...</td>\n",
       "      <td>IC</td>\n",
       "      <td>Invest Cont</td>\n",
       "      <td>740.0</td>\n",
       "      <td>NaN</td>\n",
       "      <td>NaN</td>\n",
       "      <td>NaN</td>\n",
       "      <td>12500    BRANFORD                     ST</td>\n",
       "      <td>NaN</td>\n",
       "      <td>34.2466</td>\n",
       "      <td>-118.4054</td>\n",
       "    </tr>\n",
       "    <tr>\n",
       "      <th>752908</th>\n",
       "      <td>231606525</td>\n",
       "      <td>03/22/2023 12:00:00 AM</td>\n",
       "      <td>03/22/2023 12:00:00 AM</td>\n",
       "      <td>1000</td>\n",
       "      <td>16</td>\n",
       "      <td>Foothill</td>\n",
       "      <td>1602</td>\n",
       "      <td>1</td>\n",
       "      <td>230</td>\n",
       "      <td>ASSAULT WITH DEADLY WEAPON, AGGRAVATED ASSAULT</td>\n",
       "      <td>...</td>\n",
       "      <td>IC</td>\n",
       "      <td>Invest Cont</td>\n",
       "      <td>230.0</td>\n",
       "      <td>NaN</td>\n",
       "      <td>NaN</td>\n",
       "      <td>NaN</td>\n",
       "      <td>12800    FILMORE                      ST</td>\n",
       "      <td>NaN</td>\n",
       "      <td>34.2790</td>\n",
       "      <td>-118.4116</td>\n",
       "    </tr>\n",
       "    <tr>\n",
       "      <th>752909</th>\n",
       "      <td>231210064</td>\n",
       "      <td>04/12/2023 12:00:00 AM</td>\n",
       "      <td>04/12/2023 12:00:00 AM</td>\n",
       "      <td>1630</td>\n",
       "      <td>12</td>\n",
       "      <td>77th Street</td>\n",
       "      <td>1239</td>\n",
       "      <td>1</td>\n",
       "      <td>230</td>\n",
       "      <td>ASSAULT WITH DEADLY WEAPON, AGGRAVATED ASSAULT</td>\n",
       "      <td>...</td>\n",
       "      <td>IC</td>\n",
       "      <td>Invest Cont</td>\n",
       "      <td>230.0</td>\n",
       "      <td>NaN</td>\n",
       "      <td>NaN</td>\n",
       "      <td>NaN</td>\n",
       "      <td>6100 S  VERMONT                      AV</td>\n",
       "      <td>NaN</td>\n",
       "      <td>33.9841</td>\n",
       "      <td>-118.2915</td>\n",
       "    </tr>\n",
       "    <tr>\n",
       "      <th>752910</th>\n",
       "      <td>230906458</td>\n",
       "      <td>03/05/2023 12:00:00 AM</td>\n",
       "      <td>03/05/2023 12:00:00 AM</td>\n",
       "      <td>900</td>\n",
       "      <td>9</td>\n",
       "      <td>Van Nuys</td>\n",
       "      <td>914</td>\n",
       "      <td>2</td>\n",
       "      <td>745</td>\n",
       "      <td>VANDALISM - MISDEAMEANOR ($399 OR UNDER)</td>\n",
       "      <td>...</td>\n",
       "      <td>IC</td>\n",
       "      <td>Invest Cont</td>\n",
       "      <td>745.0</td>\n",
       "      <td>NaN</td>\n",
       "      <td>NaN</td>\n",
       "      <td>NaN</td>\n",
       "      <td>14500    HARTLAND                     ST</td>\n",
       "      <td>NaN</td>\n",
       "      <td>34.1951</td>\n",
       "      <td>-118.4487</td>\n",
       "    </tr>\n",
       "  </tbody>\n",
       "</table>\n",
       "<p>4 rows × 28 columns</p>\n",
       "</div>"
      ],
      "text/plain": [
       "            DR_NO               Date Rptd                DATE OCC  TIME OCC  \\\n",
       "752907  231604807  01/27/2023 12:00:00 AM  01/26/2023 12:00:00 AM      1800   \n",
       "752908  231606525  03/22/2023 12:00:00 AM  03/22/2023 12:00:00 AM      1000   \n",
       "752909  231210064  04/12/2023 12:00:00 AM  04/12/2023 12:00:00 AM      1630   \n",
       "752910  230906458  03/05/2023 12:00:00 AM  03/05/2023 12:00:00 AM       900   \n",
       "\n",
       "        AREA    AREA NAME  Rpt Dist No  Part 1-2  Crm Cd  \\\n",
       "752907    16     Foothill         1663         2     740   \n",
       "752908    16     Foothill         1602         1     230   \n",
       "752909    12  77th Street         1239         1     230   \n",
       "752910     9     Van Nuys          914         2     745   \n",
       "\n",
       "                                              Crm Cd Desc  ... Status  \\\n",
       "752907  VANDALISM - FELONY ($400 & OVER, ALL CHURCH VA...  ...     IC   \n",
       "752908     ASSAULT WITH DEADLY WEAPON, AGGRAVATED ASSAULT  ...     IC   \n",
       "752909     ASSAULT WITH DEADLY WEAPON, AGGRAVATED ASSAULT  ...     IC   \n",
       "752910           VANDALISM - MISDEAMEANOR ($399 OR UNDER)  ...     IC   \n",
       "\n",
       "        Status Desc Crm Cd 1 Crm Cd 2  Crm Cd 3 Crm Cd 4  \\\n",
       "752907  Invest Cont    740.0      NaN       NaN      NaN   \n",
       "752908  Invest Cont    230.0      NaN       NaN      NaN   \n",
       "752909  Invest Cont    230.0      NaN       NaN      NaN   \n",
       "752910  Invest Cont    745.0      NaN       NaN      NaN   \n",
       "\n",
       "                                        LOCATION Cross Street      LAT  \\\n",
       "752907  12500    BRANFORD                     ST          NaN  34.2466   \n",
       "752908  12800    FILMORE                      ST          NaN  34.2790   \n",
       "752909   6100 S  VERMONT                      AV          NaN  33.9841   \n",
       "752910  14500    HARTLAND                     ST          NaN  34.1951   \n",
       "\n",
       "             LON  \n",
       "752907 -118.4054  \n",
       "752908 -118.4116  \n",
       "752909 -118.2915  \n",
       "752910 -118.4487  \n",
       "\n",
       "[4 rows x 28 columns]"
      ]
     },
     "execution_count": 239,
     "metadata": {},
     "output_type": "execute_result"
    }
   ],
   "source": [
    "df.tail(4)"
   ]
  },
  {
   "cell_type": "code",
   "execution_count": 240,
   "id": "82324594",
   "metadata": {},
   "outputs": [
    {
     "data": {
      "text/html": [
       "<div>\n",
       "<style scoped>\n",
       "    .dataframe tbody tr th:only-of-type {\n",
       "        vertical-align: middle;\n",
       "    }\n",
       "\n",
       "    .dataframe tbody tr th {\n",
       "        vertical-align: top;\n",
       "    }\n",
       "\n",
       "    .dataframe thead th {\n",
       "        text-align: right;\n",
       "    }\n",
       "</style>\n",
       "<table border=\"1\" class=\"dataframe\">\n",
       "  <thead>\n",
       "    <tr style=\"text-align: right;\">\n",
       "      <th></th>\n",
       "      <th>count</th>\n",
       "      <th>mean</th>\n",
       "      <th>std</th>\n",
       "      <th>min</th>\n",
       "      <th>25%</th>\n",
       "      <th>50%</th>\n",
       "      <th>75%</th>\n",
       "      <th>max</th>\n",
       "    </tr>\n",
       "  </thead>\n",
       "  <tbody>\n",
       "    <tr>\n",
       "      <th>DR_NO</th>\n",
       "      <td>752911.0</td>\n",
       "      <td>2.147860e+08</td>\n",
       "      <td>1.028819e+07</td>\n",
       "      <td>817.0000</td>\n",
       "      <td>2.021116e+08</td>\n",
       "      <td>2.119101e+08</td>\n",
       "      <td>2.215044e+08</td>\n",
       "      <td>2.399165e+08</td>\n",
       "    </tr>\n",
       "    <tr>\n",
       "      <th>TIME OCC</th>\n",
       "      <td>752911.0</td>\n",
       "      <td>1.334820e+03</td>\n",
       "      <td>6.537894e+02</td>\n",
       "      <td>1.0000</td>\n",
       "      <td>9.000000e+02</td>\n",
       "      <td>1.415000e+03</td>\n",
       "      <td>1.900000e+03</td>\n",
       "      <td>2.359000e+03</td>\n",
       "    </tr>\n",
       "    <tr>\n",
       "      <th>AREA</th>\n",
       "      <td>752911.0</td>\n",
       "      <td>1.071771e+01</td>\n",
       "      <td>6.092023e+00</td>\n",
       "      <td>1.0000</td>\n",
       "      <td>6.000000e+00</td>\n",
       "      <td>1.100000e+01</td>\n",
       "      <td>1.600000e+01</td>\n",
       "      <td>2.100000e+01</td>\n",
       "    </tr>\n",
       "    <tr>\n",
       "      <th>Rpt Dist No</th>\n",
       "      <td>752911.0</td>\n",
       "      <td>1.118177e+03</td>\n",
       "      <td>6.092138e+02</td>\n",
       "      <td>101.0000</td>\n",
       "      <td>6.220000e+02</td>\n",
       "      <td>1.142000e+03</td>\n",
       "      <td>1.618000e+03</td>\n",
       "      <td>2.199000e+03</td>\n",
       "    </tr>\n",
       "    <tr>\n",
       "      <th>Part 1-2</th>\n",
       "      <td>752911.0</td>\n",
       "      <td>1.415733e+00</td>\n",
       "      <td>4.928483e-01</td>\n",
       "      <td>1.0000</td>\n",
       "      <td>1.000000e+00</td>\n",
       "      <td>1.000000e+00</td>\n",
       "      <td>2.000000e+00</td>\n",
       "      <td>2.000000e+00</td>\n",
       "    </tr>\n",
       "    <tr>\n",
       "      <th>Crm Cd</th>\n",
       "      <td>752911.0</td>\n",
       "      <td>5.008875e+02</td>\n",
       "      <td>2.079800e+02</td>\n",
       "      <td>110.0000</td>\n",
       "      <td>3.310000e+02</td>\n",
       "      <td>4.420000e+02</td>\n",
       "      <td>6.260000e+02</td>\n",
       "      <td>9.560000e+02</td>\n",
       "    </tr>\n",
       "    <tr>\n",
       "      <th>Vict Age</th>\n",
       "      <td>752911.0</td>\n",
       "      <td>2.991744e+01</td>\n",
       "      <td>2.173006e+01</td>\n",
       "      <td>-2.0000</td>\n",
       "      <td>1.100000e+01</td>\n",
       "      <td>3.100000e+01</td>\n",
       "      <td>4.500000e+01</td>\n",
       "      <td>1.200000e+02</td>\n",
       "    </tr>\n",
       "    <tr>\n",
       "      <th>Premis Cd</th>\n",
       "      <td>752902.0</td>\n",
       "      <td>3.059610e+02</td>\n",
       "      <td>2.168133e+02</td>\n",
       "      <td>101.0000</td>\n",
       "      <td>1.010000e+02</td>\n",
       "      <td>2.030000e+02</td>\n",
       "      <td>5.010000e+02</td>\n",
       "      <td>9.740000e+02</td>\n",
       "    </tr>\n",
       "    <tr>\n",
       "      <th>Weapon Used Cd</th>\n",
       "      <td>261472.0</td>\n",
       "      <td>3.625872e+02</td>\n",
       "      <td>1.237182e+02</td>\n",
       "      <td>101.0000</td>\n",
       "      <td>3.090000e+02</td>\n",
       "      <td>4.000000e+02</td>\n",
       "      <td>4.000000e+02</td>\n",
       "      <td>5.160000e+02</td>\n",
       "    </tr>\n",
       "    <tr>\n",
       "      <th>Crm Cd 1</th>\n",
       "      <td>752901.0</td>\n",
       "      <td>5.006285e+02</td>\n",
       "      <td>2.077704e+02</td>\n",
       "      <td>110.0000</td>\n",
       "      <td>3.310000e+02</td>\n",
       "      <td>4.420000e+02</td>\n",
       "      <td>6.260000e+02</td>\n",
       "      <td>9.560000e+02</td>\n",
       "    </tr>\n",
       "    <tr>\n",
       "      <th>Crm Cd 2</th>\n",
       "      <td>55707.0</td>\n",
       "      <td>9.572438e+02</td>\n",
       "      <td>1.119052e+02</td>\n",
       "      <td>210.0000</td>\n",
       "      <td>9.980000e+02</td>\n",
       "      <td>9.980000e+02</td>\n",
       "      <td>9.980000e+02</td>\n",
       "      <td>9.990000e+02</td>\n",
       "    </tr>\n",
       "    <tr>\n",
       "      <th>Crm Cd 3</th>\n",
       "      <td>1867.0</td>\n",
       "      <td>9.836379e+02</td>\n",
       "      <td>5.142033e+01</td>\n",
       "      <td>434.0000</td>\n",
       "      <td>9.980000e+02</td>\n",
       "      <td>9.980000e+02</td>\n",
       "      <td>9.980000e+02</td>\n",
       "      <td>9.990000e+02</td>\n",
       "    </tr>\n",
       "    <tr>\n",
       "      <th>Crm Cd 4</th>\n",
       "      <td>56.0</td>\n",
       "      <td>9.902321e+02</td>\n",
       "      <td>2.883432e+01</td>\n",
       "      <td>821.0000</td>\n",
       "      <td>9.980000e+02</td>\n",
       "      <td>9.980000e+02</td>\n",
       "      <td>9.980000e+02</td>\n",
       "      <td>9.990000e+02</td>\n",
       "    </tr>\n",
       "    <tr>\n",
       "      <th>LAT</th>\n",
       "      <td>752911.0</td>\n",
       "      <td>3.397099e+01</td>\n",
       "      <td>1.869766e+00</td>\n",
       "      <td>0.0000</td>\n",
       "      <td>3.401330e+01</td>\n",
       "      <td>3.405850e+01</td>\n",
       "      <td>3.416300e+01</td>\n",
       "      <td>3.433430e+01</td>\n",
       "    </tr>\n",
       "    <tr>\n",
       "      <th>LON</th>\n",
       "      <td>752911.0</td>\n",
       "      <td>-1.179978e+02</td>\n",
       "      <td>6.483999e+00</td>\n",
       "      <td>-118.6676</td>\n",
       "      <td>-1.184295e+02</td>\n",
       "      <td>-1.183214e+02</td>\n",
       "      <td>-1.182739e+02</td>\n",
       "      <td>0.000000e+00</td>\n",
       "    </tr>\n",
       "  </tbody>\n",
       "</table>\n",
       "</div>"
      ],
      "text/plain": [
       "                   count          mean           std       min           25%  \\\n",
       "DR_NO           752911.0  2.147860e+08  1.028819e+07  817.0000  2.021116e+08   \n",
       "TIME OCC        752911.0  1.334820e+03  6.537894e+02    1.0000  9.000000e+02   \n",
       "AREA            752911.0  1.071771e+01  6.092023e+00    1.0000  6.000000e+00   \n",
       "Rpt Dist No     752911.0  1.118177e+03  6.092138e+02  101.0000  6.220000e+02   \n",
       "Part 1-2        752911.0  1.415733e+00  4.928483e-01    1.0000  1.000000e+00   \n",
       "Crm Cd          752911.0  5.008875e+02  2.079800e+02  110.0000  3.310000e+02   \n",
       "Vict Age        752911.0  2.991744e+01  2.173006e+01   -2.0000  1.100000e+01   \n",
       "Premis Cd       752902.0  3.059610e+02  2.168133e+02  101.0000  1.010000e+02   \n",
       "Weapon Used Cd  261472.0  3.625872e+02  1.237182e+02  101.0000  3.090000e+02   \n",
       "Crm Cd 1        752901.0  5.006285e+02  2.077704e+02  110.0000  3.310000e+02   \n",
       "Crm Cd 2         55707.0  9.572438e+02  1.119052e+02  210.0000  9.980000e+02   \n",
       "Crm Cd 3          1867.0  9.836379e+02  5.142033e+01  434.0000  9.980000e+02   \n",
       "Crm Cd 4            56.0  9.902321e+02  2.883432e+01  821.0000  9.980000e+02   \n",
       "LAT             752911.0  3.397099e+01  1.869766e+00    0.0000  3.401330e+01   \n",
       "LON             752911.0 -1.179978e+02  6.483999e+00 -118.6676 -1.184295e+02   \n",
       "\n",
       "                         50%           75%           max  \n",
       "DR_NO           2.119101e+08  2.215044e+08  2.399165e+08  \n",
       "TIME OCC        1.415000e+03  1.900000e+03  2.359000e+03  \n",
       "AREA            1.100000e+01  1.600000e+01  2.100000e+01  \n",
       "Rpt Dist No     1.142000e+03  1.618000e+03  2.199000e+03  \n",
       "Part 1-2        1.000000e+00  2.000000e+00  2.000000e+00  \n",
       "Crm Cd          4.420000e+02  6.260000e+02  9.560000e+02  \n",
       "Vict Age        3.100000e+01  4.500000e+01  1.200000e+02  \n",
       "Premis Cd       2.030000e+02  5.010000e+02  9.740000e+02  \n",
       "Weapon Used Cd  4.000000e+02  4.000000e+02  5.160000e+02  \n",
       "Crm Cd 1        4.420000e+02  6.260000e+02  9.560000e+02  \n",
       "Crm Cd 2        9.980000e+02  9.980000e+02  9.990000e+02  \n",
       "Crm Cd 3        9.980000e+02  9.980000e+02  9.990000e+02  \n",
       "Crm Cd 4        9.980000e+02  9.980000e+02  9.990000e+02  \n",
       "LAT             3.405850e+01  3.416300e+01  3.433430e+01  \n",
       "LON            -1.183214e+02 -1.182739e+02  0.000000e+00  "
      ]
     },
     "execution_count": 240,
     "metadata": {},
     "output_type": "execute_result"
    }
   ],
   "source": [
    "df.describe().T"
   ]
  },
  {
   "cell_type": "code",
   "execution_count": 241,
   "id": "bde91072",
   "metadata": {},
   "outputs": [
    {
     "name": "stdout",
     "output_type": "stream",
     "text": [
      "<class 'pandas.core.frame.DataFrame'>\n",
      "RangeIndex: 752911 entries, 0 to 752910\n",
      "Data columns (total 28 columns):\n",
      " #   Column          Non-Null Count   Dtype  \n",
      "---  ------          --------------   -----  \n",
      " 0   DR_NO           752911 non-null  int64  \n",
      " 1   Date Rptd       752911 non-null  object \n",
      " 2   DATE OCC        752911 non-null  object \n",
      " 3   TIME OCC        752911 non-null  int64  \n",
      " 4   AREA            752911 non-null  int64  \n",
      " 5   AREA NAME       752911 non-null  object \n",
      " 6   Rpt Dist No     752911 non-null  int64  \n",
      " 7   Part 1-2        752911 non-null  int64  \n",
      " 8   Crm Cd          752911 non-null  int64  \n",
      " 9   Crm Cd Desc     752911 non-null  object \n",
      " 10  Mocodes         649650 non-null  object \n",
      " 11  Vict Age        752911 non-null  int64  \n",
      " 12  Vict Sex        654681 non-null  object \n",
      " 13  Vict Descent    654675 non-null  object \n",
      " 14  Premis Cd       752902 non-null  float64\n",
      " 15  Premis Desc     752476 non-null  object \n",
      " 16  Weapon Used Cd  261472 non-null  float64\n",
      " 17  Weapon Desc     261472 non-null  object \n",
      " 18  Status          752911 non-null  object \n",
      " 19  Status Desc     752911 non-null  object \n",
      " 20  Crm Cd 1        752901 non-null  float64\n",
      " 21  Crm Cd 2        55707 non-null   float64\n",
      " 22  Crm Cd 3        1867 non-null    float64\n",
      " 23  Crm Cd 4        56 non-null      float64\n",
      " 24  LOCATION        752911 non-null  object \n",
      " 25  Cross Street    121052 non-null  object \n",
      " 26  LAT             752911 non-null  float64\n",
      " 27  LON             752911 non-null  float64\n",
      "dtypes: float64(8), int64(7), object(13)\n",
      "memory usage: 160.8+ MB\n"
     ]
    }
   ],
   "source": [
    "df.info()"
   ]
  },
  {
   "cell_type": "markdown",
   "id": "3672a414",
   "metadata": {},
   "source": [
    "## Preprocessing"
   ]
  },
  {
   "cell_type": "markdown",
   "id": "4000c444",
   "metadata": {},
   "source": [
    "### Replace Blanks with Median"
   ]
  },
  {
   "cell_type": "code",
   "execution_count": 242,
   "id": "b2f6db8d",
   "metadata": {},
   "outputs": [
    {
     "data": {
      "text/plain": [
       "DR_NO                  0\n",
       "Date Rptd              0\n",
       "DATE OCC               0\n",
       "TIME OCC               0\n",
       "AREA                   0\n",
       "AREA NAME              0\n",
       "Rpt Dist No            0\n",
       "Part 1-2               0\n",
       "Crm Cd                 0\n",
       "Crm Cd Desc            0\n",
       "Mocodes           103261\n",
       "Vict Age               0\n",
       "Vict Sex           98230\n",
       "Vict Descent       98236\n",
       "Premis Cd              9\n",
       "Premis Desc          435\n",
       "Weapon Used Cd    491439\n",
       "Weapon Desc       491439\n",
       "Status                 0\n",
       "Status Desc            0\n",
       "Crm Cd 1              10\n",
       "Crm Cd 2          697204\n",
       "Crm Cd 3          751044\n",
       "Crm Cd 4          752855\n",
       "LOCATION               0\n",
       "Cross Street      631859\n",
       "LAT                    0\n",
       "LON                    0\n",
       "dtype: int64"
      ]
     },
     "execution_count": 242,
     "metadata": {},
     "output_type": "execute_result"
    }
   ],
   "source": [
    "df.isnull().sum()"
   ]
  },
  {
   "cell_type": "code",
   "execution_count": 243,
   "id": "aba8d3dc",
   "metadata": {},
   "outputs": [],
   "source": [
    "#Droping unsuccessful columns \n",
    "df = df.drop(['Cross Street','Crm Cd 4','Crm Cd 3','Crm Cd 2','Weapon Desc','Weapon Used Cd','Vict Descent','Vict Sex','Mocodes'],axis=1)"
   ]
  },
  {
   "cell_type": "code",
   "execution_count": 244,
   "id": "c1cdf1f0",
   "metadata": {},
   "outputs": [
    {
     "data": {
      "text/plain": [
       "DR_NO           0\n",
       "TIME OCC        0\n",
       "AREA            0\n",
       "Rpt Dist No     0\n",
       "Part 1-2        0\n",
       "Crm Cd          0\n",
       "Vict Age        0\n",
       "Premis Cd       9\n",
       "Crm Cd 1       10\n",
       "LAT             0\n",
       "LON             0\n",
       "dtype: int64"
      ]
     },
     "execution_count": 244,
     "metadata": {},
     "output_type": "execute_result"
    }
   ],
   "source": [
    "#numeric variables\n",
    "df.select_dtypes(exclude='object').isnull().sum()"
   ]
  },
  {
   "cell_type": "code",
   "execution_count": 245,
   "id": "8a80b839",
   "metadata": {},
   "outputs": [],
   "source": [
    "median_value = df['Crm Cd 1'].median()\n",
    "df['Crm Cd 1'] = df['Crm Cd 1'].fillna(median_value)"
   ]
  },
  {
   "cell_type": "markdown",
   "id": "afe3bdf0",
   "metadata": {},
   "source": [
    "###### Premis Cd column"
   ]
  },
  {
   "cell_type": "code",
   "execution_count": 246,
   "id": "6c8d2e46",
   "metadata": {},
   "outputs": [
    {
     "data": {
      "text/plain": [
       "9"
      ]
     },
     "execution_count": 246,
     "metadata": {},
     "output_type": "execute_result"
    }
   ],
   "source": [
    "df['Premis Cd'].isnull().sum()"
   ]
  },
  {
   "cell_type": "code",
   "execution_count": 247,
   "id": "2e7e3004",
   "metadata": {},
   "outputs": [],
   "source": [
    "df['Premis Cd'] = df['Premis Cd'].fillna(median_value)"
   ]
  },
  {
   "cell_type": "markdown",
   "id": "8189eeb7",
   "metadata": {},
   "source": [
    "#### Replace Blanks with Most Probable Values"
   ]
  },
  {
   "cell_type": "code",
   "execution_count": 248,
   "id": "81c9c4a4",
   "metadata": {},
   "outputs": [
    {
     "data": {
      "text/plain": [
       "Date Rptd        0\n",
       "DATE OCC         0\n",
       "AREA NAME        0\n",
       "Crm Cd Desc      0\n",
       "Premis Desc    435\n",
       "Status           0\n",
       "Status Desc      0\n",
       "LOCATION         0\n",
       "dtype: int64"
      ]
     },
     "execution_count": 248,
     "metadata": {},
     "output_type": "execute_result"
    }
   ],
   "source": [
    "df.select_dtypes(include='object').isnull().sum()"
   ]
  },
  {
   "cell_type": "code",
   "execution_count": 249,
   "id": "01d8e297",
   "metadata": {},
   "outputs": [],
   "source": [
    "cleaner = SimpleImputer(strategy='most_frequent')"
   ]
  },
  {
   "cell_type": "code",
   "execution_count": 250,
   "id": "6bd12a4f",
   "metadata": {},
   "outputs": [],
   "source": [
    "value = df['Premis Desc'].values.reshape(-1, 1)\n"
   ]
  },
  {
   "cell_type": "code",
   "execution_count": 251,
   "id": "5df7cf1f",
   "metadata": {},
   "outputs": [],
   "source": [
    "df['Premis Desc'] = cleaner.fit_transform(value)"
   ]
  },
  {
   "cell_type": "code",
   "execution_count": 252,
   "id": "e29c365f",
   "metadata": {},
   "outputs": [
    {
     "data": {
      "text/plain": [
       "DR_NO          0\n",
       "Date Rptd      0\n",
       "DATE OCC       0\n",
       "TIME OCC       0\n",
       "AREA           0\n",
       "AREA NAME      0\n",
       "Rpt Dist No    0\n",
       "Part 1-2       0\n",
       "Crm Cd         0\n",
       "Crm Cd Desc    0\n",
       "Vict Age       0\n",
       "Premis Cd      0\n",
       "Premis Desc    0\n",
       "Status         0\n",
       "Status Desc    0\n",
       "Crm Cd 1       0\n",
       "LOCATION       0\n",
       "LAT            0\n",
       "LON            0\n",
       "dtype: int64"
      ]
     },
     "execution_count": 252,
     "metadata": {},
     "output_type": "execute_result"
    }
   ],
   "source": [
    "df.isnull().sum()"
   ]
  },
  {
   "cell_type": "code",
   "execution_count": 253,
   "id": "e11cdfb6",
   "metadata": {},
   "outputs": [],
   "source": [
    "#transforming date columns to datetime fromat\n",
    "df['Date Rptd'] = pd.to_datetime(df['Date Rptd'])\n",
    "df['DATE OCC'] = pd.to_datetime(df['DATE OCC'])\n"
   ]
  },
  {
   "cell_type": "markdown",
   "id": "c2c79206",
   "metadata": {},
   "source": [
    "### Encoding Categorical Variables"
   ]
  },
  {
   "cell_type": "code",
   "execution_count": 254,
   "id": "97a5fc0e",
   "metadata": {},
   "outputs": [
    {
     "data": {
      "text/html": [
       "<div>\n",
       "<style scoped>\n",
       "    .dataframe tbody tr th:only-of-type {\n",
       "        vertical-align: middle;\n",
       "    }\n",
       "\n",
       "    .dataframe tbody tr th {\n",
       "        vertical-align: top;\n",
       "    }\n",
       "\n",
       "    .dataframe thead th {\n",
       "        text-align: right;\n",
       "    }\n",
       "</style>\n",
       "<table border=\"1\" class=\"dataframe\">\n",
       "  <thead>\n",
       "    <tr style=\"text-align: right;\">\n",
       "      <th></th>\n",
       "      <th>AREA NAME</th>\n",
       "      <th>Crm Cd Desc</th>\n",
       "      <th>Premis Desc</th>\n",
       "      <th>Status</th>\n",
       "      <th>Status Desc</th>\n",
       "      <th>LOCATION</th>\n",
       "    </tr>\n",
       "  </thead>\n",
       "  <tbody>\n",
       "    <tr>\n",
       "      <th>0</th>\n",
       "      <td>Southwest</td>\n",
       "      <td>BATTERY - SIMPLE ASSAULT</td>\n",
       "      <td>SINGLE FAMILY DWELLING</td>\n",
       "      <td>AO</td>\n",
       "      <td>Adult Other</td>\n",
       "      <td>1100 W  39TH                         PL</td>\n",
       "    </tr>\n",
       "    <tr>\n",
       "      <th>1</th>\n",
       "      <td>Central</td>\n",
       "      <td>BATTERY - SIMPLE ASSAULT</td>\n",
       "      <td>SIDEWALK</td>\n",
       "      <td>IC</td>\n",
       "      <td>Invest Cont</td>\n",
       "      <td>700 S  HILL                         ST</td>\n",
       "    </tr>\n",
       "    <tr>\n",
       "      <th>2</th>\n",
       "      <td>Central</td>\n",
       "      <td>SEX OFFENDER REGISTRANT OUT OF COMPLIANCE</td>\n",
       "      <td>POLICE FACILITY</td>\n",
       "      <td>AA</td>\n",
       "      <td>Adult Arrest</td>\n",
       "      <td>200 E  6TH                          ST</td>\n",
       "    </tr>\n",
       "    <tr>\n",
       "      <th>3</th>\n",
       "      <td>N Hollywood</td>\n",
       "      <td>VANDALISM - MISDEAMEANOR ($399 OR UNDER)</td>\n",
       "      <td>MULTI-UNIT DWELLING (APARTMENT, DUPLEX, ETC)</td>\n",
       "      <td>IC</td>\n",
       "      <td>Invest Cont</td>\n",
       "      <td>5400    CORTEEN                      PL</td>\n",
       "    </tr>\n",
       "    <tr>\n",
       "      <th>4</th>\n",
       "      <td>Mission</td>\n",
       "      <td>VANDALISM - FELONY ($400 &amp; OVER, ALL CHURCH VA...</td>\n",
       "      <td>BEAUTY SUPPLY STORE</td>\n",
       "      <td>IC</td>\n",
       "      <td>Invest Cont</td>\n",
       "      <td>14400    TITUS                        ST</td>\n",
       "    </tr>\n",
       "    <tr>\n",
       "      <th>...</th>\n",
       "      <td>...</td>\n",
       "      <td>...</td>\n",
       "      <td>...</td>\n",
       "      <td>...</td>\n",
       "      <td>...</td>\n",
       "      <td>...</td>\n",
       "    </tr>\n",
       "    <tr>\n",
       "      <th>752906</th>\n",
       "      <td>N Hollywood</td>\n",
       "      <td>BUNCO, GRAND THEFT</td>\n",
       "      <td>OTHER PREMISE</td>\n",
       "      <td>IC</td>\n",
       "      <td>Invest Cont</td>\n",
       "      <td>5300    DENNY                        AV</td>\n",
       "    </tr>\n",
       "    <tr>\n",
       "      <th>752907</th>\n",
       "      <td>Foothill</td>\n",
       "      <td>VANDALISM - FELONY ($400 &amp; OVER, ALL CHURCH VA...</td>\n",
       "      <td>VEHICLE, PASSENGER/TRUCK</td>\n",
       "      <td>IC</td>\n",
       "      <td>Invest Cont</td>\n",
       "      <td>12500    BRANFORD                     ST</td>\n",
       "    </tr>\n",
       "    <tr>\n",
       "      <th>752908</th>\n",
       "      <td>Foothill</td>\n",
       "      <td>ASSAULT WITH DEADLY WEAPON, AGGRAVATED ASSAULT</td>\n",
       "      <td>SIDEWALK</td>\n",
       "      <td>IC</td>\n",
       "      <td>Invest Cont</td>\n",
       "      <td>12800    FILMORE                      ST</td>\n",
       "    </tr>\n",
       "    <tr>\n",
       "      <th>752909</th>\n",
       "      <td>77th Street</td>\n",
       "      <td>ASSAULT WITH DEADLY WEAPON, AGGRAVATED ASSAULT</td>\n",
       "      <td>LAUNDROMAT</td>\n",
       "      <td>IC</td>\n",
       "      <td>Invest Cont</td>\n",
       "      <td>6100 S  VERMONT                      AV</td>\n",
       "    </tr>\n",
       "    <tr>\n",
       "      <th>752910</th>\n",
       "      <td>Van Nuys</td>\n",
       "      <td>VANDALISM - MISDEAMEANOR ($399 OR UNDER)</td>\n",
       "      <td>MULTI-UNIT DWELLING (APARTMENT, DUPLEX, ETC)</td>\n",
       "      <td>IC</td>\n",
       "      <td>Invest Cont</td>\n",
       "      <td>14500    HARTLAND                     ST</td>\n",
       "    </tr>\n",
       "  </tbody>\n",
       "</table>\n",
       "<p>752911 rows × 6 columns</p>\n",
       "</div>"
      ],
      "text/plain": [
       "          AREA NAME                                        Crm Cd Desc  \\\n",
       "0         Southwest                           BATTERY - SIMPLE ASSAULT   \n",
       "1           Central                           BATTERY - SIMPLE ASSAULT   \n",
       "2           Central          SEX OFFENDER REGISTRANT OUT OF COMPLIANCE   \n",
       "3       N Hollywood           VANDALISM - MISDEAMEANOR ($399 OR UNDER)   \n",
       "4           Mission  VANDALISM - FELONY ($400 & OVER, ALL CHURCH VA...   \n",
       "...             ...                                                ...   \n",
       "752906  N Hollywood                                 BUNCO, GRAND THEFT   \n",
       "752907     Foothill  VANDALISM - FELONY ($400 & OVER, ALL CHURCH VA...   \n",
       "752908     Foothill     ASSAULT WITH DEADLY WEAPON, AGGRAVATED ASSAULT   \n",
       "752909  77th Street     ASSAULT WITH DEADLY WEAPON, AGGRAVATED ASSAULT   \n",
       "752910     Van Nuys           VANDALISM - MISDEAMEANOR ($399 OR UNDER)   \n",
       "\n",
       "                                         Premis Desc Status   Status Desc  \\\n",
       "0                             SINGLE FAMILY DWELLING     AO   Adult Other   \n",
       "1                                           SIDEWALK     IC   Invest Cont   \n",
       "2                                    POLICE FACILITY     AA  Adult Arrest   \n",
       "3       MULTI-UNIT DWELLING (APARTMENT, DUPLEX, ETC)     IC   Invest Cont   \n",
       "4                                BEAUTY SUPPLY STORE     IC   Invest Cont   \n",
       "...                                              ...    ...           ...   \n",
       "752906                                 OTHER PREMISE     IC   Invest Cont   \n",
       "752907                      VEHICLE, PASSENGER/TRUCK     IC   Invest Cont   \n",
       "752908                                      SIDEWALK     IC   Invest Cont   \n",
       "752909                                    LAUNDROMAT     IC   Invest Cont   \n",
       "752910  MULTI-UNIT DWELLING (APARTMENT, DUPLEX, ETC)     IC   Invest Cont   \n",
       "\n",
       "                                        LOCATION  \n",
       "0        1100 W  39TH                         PL  \n",
       "1         700 S  HILL                         ST  \n",
       "2         200 E  6TH                          ST  \n",
       "3        5400    CORTEEN                      PL  \n",
       "4       14400    TITUS                        ST  \n",
       "...                                          ...  \n",
       "752906   5300    DENNY                        AV  \n",
       "752907  12500    BRANFORD                     ST  \n",
       "752908  12800    FILMORE                      ST  \n",
       "752909   6100 S  VERMONT                      AV  \n",
       "752910  14500    HARTLAND                     ST  \n",
       "\n",
       "[752911 rows x 6 columns]"
      ]
     },
     "execution_count": 254,
     "metadata": {},
     "output_type": "execute_result"
    }
   ],
   "source": [
    " df.select_dtypes(include='object')"
   ]
  },
  {
   "cell_type": "code",
   "execution_count": 255,
   "id": "7a7de4d1",
   "metadata": {},
   "outputs": [
    {
     "name": "stdout",
     "output_type": "stream",
     "text": [
      "AREA NAME 21\n",
      "Crm Cd Desc 138\n",
      "Premis Desc 306\n",
      "Status 6\n",
      "Status Desc 6\n",
      "LOCATION 62528\n"
     ]
    }
   ],
   "source": [
    "for col in df.select_dtypes(include='object').columns:\n",
    "    print(col, df[col].nunique())"
   ]
  },
  {
   "cell_type": "markdown",
   "id": "e47f484a",
   "metadata": {},
   "source": [
    "##### AREA NAME column"
   ]
  },
  {
   "cell_type": "code",
   "execution_count": 256,
   "id": "456e7ef2",
   "metadata": {},
   "outputs": [
    {
     "data": {
      "text/plain": [
       "array(['Southwest', 'Central', 'N Hollywood', 'Mission', 'Devonshire',\n",
       "       'Northeast', 'Harbor', 'Van Nuys', 'West Valley', 'West LA',\n",
       "       'Wilshire', 'Pacific', 'Rampart', '77th Street', 'Hollenbeck',\n",
       "       'Southeast', 'Hollywood', 'Newton', 'Topanga', 'Foothill',\n",
       "       'Olympic'], dtype=object)"
      ]
     },
     "execution_count": 256,
     "metadata": {},
     "output_type": "execute_result"
    }
   ],
   "source": [
    "\n",
    "df['AREA NAME'].unique()"
   ]
  },
  {
   "cell_type": "code",
   "execution_count": 257,
   "id": "30e17309",
   "metadata": {},
   "outputs": [],
   "source": [
    "le = LabelEncoder()"
   ]
  },
  {
   "cell_type": "code",
   "execution_count": 258,
   "id": "fb7f9944",
   "metadata": {},
   "outputs": [],
   "source": [
    "df['AREA NAME'] = le.fit_transform(df['AREA NAME'])"
   ]
  },
  {
   "cell_type": "markdown",
   "id": "b24f4398",
   "metadata": {},
   "source": [
    "##### Crm Cd Desc column"
   ]
  },
  {
   "cell_type": "code",
   "execution_count": 259,
   "id": "88b514d4",
   "metadata": {},
   "outputs": [
    {
     "data": {
      "text/plain": [
       "array(['BATTERY - SIMPLE ASSAULT',\n",
       "       'SEX OFFENDER REGISTRANT OUT OF COMPLIANCE',\n",
       "       'VANDALISM - MISDEAMEANOR ($399 OR UNDER)',\n",
       "       'VANDALISM - FELONY ($400 & OVER, ALL CHURCH VANDALISMS)',\n",
       "       'RAPE, FORCIBLE', 'SHOPLIFTING - PETTY THEFT ($950 & UNDER)',\n",
       "       'OTHER MISCELLANEOUS CRIME',\n",
       "       'THEFT-GRAND ($950.01 & OVER)EXCPT,GUNS,FOWL,LIVESTK,PROD',\n",
       "       'BURGLARY FROM VEHICLE', 'CRIMINAL THREATS - NO WEAPON DISPLAYED',\n",
       "       'ARSON', 'INTIMATE PARTNER - SIMPLE ASSAULT',\n",
       "       'THEFT PLAIN - PETTY ($950 & UNDER)', 'THEFT OF IDENTITY',\n",
       "       'ROBBERY', 'ASSAULT WITH DEADLY WEAPON, AGGRAVATED ASSAULT',\n",
       "       'BURGLARY', 'VEHICLE - STOLEN',\n",
       "       'THEFT FROM MOTOR VEHICLE - PETTY ($950 & UNDER)',\n",
       "       'BRANDISH WEAPON', 'INTIMATE PARTNER - AGGRAVATED ASSAULT',\n",
       "       'BUNCO, GRAND THEFT', 'THEFT, PERSON',\n",
       "       'BATTERY WITH SEXUAL CONTACT', 'BIKE - STOLEN',\n",
       "       'BATTERY POLICE (SIMPLE)',\n",
       "       'LETTERS, LEWD  -  TELEPHONE CALLS, LEWD',\n",
       "       'VIOLATION OF COURT ORDER', 'TRESPASSING',\n",
       "       'THEFT FROM MOTOR VEHICLE - GRAND ($950.01 AND OVER)',\n",
       "       'VIOLATION OF RESTRAINING ORDER', 'DISTURBING THE PEACE',\n",
       "       'THEFT FROM MOTOR VEHICLE - ATTEMPT',\n",
       "       'THROWING OBJECT AT MOVING VEHICLE', 'EXTORTION',\n",
       "       'SEX,UNLAWFUL(INC MUTUAL CONSENT, PENETRATION W/ FRGN OBJ',\n",
       "       'CHILD STEALING',\n",
       "       'CRM AGNST CHLD (13 OR UNDER) (14-15 & SUSP 10 YRS OLDER)',\n",
       "       'ATTEMPTED ROBBERY', 'OTHER ASSAULT', 'BOMB SCARE',\n",
       "       'DOCUMENT FORGERY / STOLEN FELONY',\n",
       "       'SEXUAL PENETRATION W/FOREIGN OBJECT',\n",
       "       'SHOTS FIRED AT INHABITED DWELLING', 'BURGLARY, ATTEMPTED',\n",
       "       'INDECENT EXPOSURE', 'ORAL COPULATION',\n",
       "       'EMBEZZLEMENT, GRAND THEFT ($950.01 & OVER)',\n",
       "       'VIOLATION OF TEMPORARY RESTRAINING ORDER', 'BUNCO, PETTY THEFT',\n",
       "       'KIDNAPPING - GRAND ATTEMPT',\n",
       "       'SHOPLIFTING-GRAND THEFT ($950.01 & OVER)', 'RESISTING ARREST',\n",
       "       'DISCHARGE FIREARMS/SHOTS FIRED',\n",
       "       'THREATENING PHONE CALLS/LETTERS', 'KIDNAPPING',\n",
       "       'LEWD/LASCIVIOUS ACTS WITH CHILD', 'LEWD CONDUCT',\n",
       "       'UNAUTHORIZED COMPUTER ACCESS', 'PURSE SNATCHING',\n",
       "       'SODOMY/SEXUAL CONTACT B/W PENIS OF ONE PERS TO ANUS OTH',\n",
       "       'CHILD NEGLECT (SEE 300 W.I.C.)', 'CONTEMPT OF COURT',\n",
       "       'CHILD ANNOYING (17YRS & UNDER)', 'BUNCO, ATTEMPT',\n",
       "       'CHILD ABUSE (PHYSICAL) - SIMPLE ASSAULT', 'PIMPING', 'STALKING',\n",
       "       'THEFT PLAIN - ATTEMPT', 'RAPE, ATTEMPTED',\n",
       "       'SHOPLIFTING - ATTEMPT', 'THEFT FROM PERSON - ATTEMPT',\n",
       "       'FALSE IMPRISONMENT', 'BURGLARY FROM VEHICLE, ATTEMPTED',\n",
       "       'FAILURE TO YIELD', 'VEHICLE - ATTEMPT STOLEN',\n",
       "       'EMBEZZLEMENT, PETTY THEFT ($950 & UNDER)',\n",
       "       'DEFRAUDING INNKEEPER/THEFT OF SERVICES, $950 & UNDER',\n",
       "       'COUNTERFEIT', 'CREDIT CARDS, FRAUD USE ($950 & UNDER',\n",
       "       'PICKPOCKET', 'SHOTS FIRED AT MOVING VEHICLE, TRAIN OR AIRCRAFT',\n",
       "       'CRIMINAL HOMICIDE', 'PROWLER',\n",
       "       'DOCUMENT WORTHLESS ($200 & UNDER)',\n",
       "       'DEFRAUDING INNKEEPER/THEFT OF SERVICES, OVER $950.01',\n",
       "       'ASSAULT WITH DEADLY WEAPON ON POLICE OFFICER',\n",
       "       'DISHONEST EMPLOYEE - GRAND THEFT',\n",
       "       'HUMAN TRAFFICKING - COMMERCIAL SEX ACTS', 'CHILD PORNOGRAPHY',\n",
       "       'PEEPING TOM', 'BATTERY ON A FIREFIGHTER',\n",
       "       'TILL TAP - PETTY ($950 & UNDER)',\n",
       "       'CHILD ABUSE (PHYSICAL) - AGGRAVATED ASSAULT',\n",
       "       'TILL TAP - GRAND THEFT ($950.01 & OVER)',\n",
       "       'HUMAN TRAFFICKING - INVOLUNTARY SERVITUDE',\n",
       "       'FIREARMS RESTRAINING ORDER (FIREARMS RO)',\n",
       "       'DRIVING WITHOUT OWNER CONSENT (DWOC)',\n",
       "       'DOCUMENT WORTHLESS ($200.01 & OVER)', 'CRUELTY TO ANIMALS',\n",
       "       'CREDIT CARDS, FRAUD USE ($950.01 & OVER)', 'LYNCHING - ATTEMPTED',\n",
       "       'FALSE POLICE REPORT', 'PANDERING', 'ILLEGAL DUMPING',\n",
       "       'VEHICLE, STOLEN - OTHER (MOTORIZED SCOOTERS, BIKES, ETC)',\n",
       "       'PETTY THEFT - AUTO REPAIR', 'MANSLAUGHTER, NEGLIGENT',\n",
       "       'RECKLESS DRIVING', 'PURSE SNATCHING - ATTEMPT',\n",
       "       'BIKE - ATTEMPTED STOLEN', 'CONSPIRACY', 'CONTRIBUTING',\n",
       "       'WEAPONS POSSESSION/BOMBING', 'BRIBERY', 'BOAT - STOLEN',\n",
       "       'THEFT, COIN MACHINE - GRAND ($950.01 & OVER)',\n",
       "       'GRAND THEFT / INSURANCE FRAUD', 'LYNCHING', 'DISRUPT SCHOOL',\n",
       "       'DISHONEST EMPLOYEE - PETTY THEFT',\n",
       "       'THEFT, COIN MACHINE - ATTEMPT',\n",
       "       'THEFT, COIN MACHINE - PETTY ($950 & UNDER)',\n",
       "       'REPLICA FIREARMS(SALE,DISPLAY,MANUFACTURE OR DISTRIBUTE)',\n",
       "       'DRUGS, TO A MINOR', 'GRAND THEFT / AUTO REPAIR',\n",
       "       'PICKPOCKET, ATTEMPT', 'DRUNK ROLL', 'CHILD ABANDONMENT',\n",
       "       'TELEPHONE PROPERTY - DAMAGE',\n",
       "       'BEASTIALITY, CRIME AGAINST NATURE SEXUAL ASSLT WITH ANIM',\n",
       "       'BIGAMY', 'FAILURE TO DISPERSE',\n",
       "       'FIREARMS EMERGENCY PROTECTIVE ORDER (FIREARMS EPO)',\n",
       "       'INCEST (SEXUAL ACTS BETWEEN BLOOD RELATIVES)',\n",
       "       'DISHONEST EMPLOYEE ATTEMPTED THEFT',\n",
       "       'BLOCKING DOOR INDUCTION CENTER', 'INCITING A RIOT'], dtype=object)"
      ]
     },
     "execution_count": 259,
     "metadata": {},
     "output_type": "execute_result"
    }
   ],
   "source": [
    "df['Crm Cd Desc'].unique()"
   ]
  },
  {
   "cell_type": "code",
   "execution_count": 260,
   "id": "e113a0dc",
   "metadata": {},
   "outputs": [
    {
     "data": {
      "text/plain": [
       "0           BATTERY\n",
       "1           BATTERY\n",
       "2               SEX\n",
       "3         VANDALISM\n",
       "4         VANDALISM\n",
       "            ...    \n",
       "752906       BUNCO,\n",
       "752907    VANDALISM\n",
       "752908      ASSAULT\n",
       "752909      ASSAULT\n",
       "752910    VANDALISM\n",
       "Name: Crm Cd Desc, Length: 752911, dtype: object"
      ]
     },
     "execution_count": 260,
     "metadata": {},
     "output_type": "execute_result"
    }
   ],
   "source": [
    "CrimeType = df['Crm Cd Desc'].apply(lambda x: x.split(' ')[0])\n",
    "CrimeType"
   ]
  },
  {
   "cell_type": "code",
   "execution_count": 261,
   "id": "188fc0c8",
   "metadata": {},
   "outputs": [],
   "source": [
    "df.drop(columns=['Crm Cd Desc'], axis=1, inplace=True)"
   ]
  },
  {
   "cell_type": "code",
   "execution_count": 262,
   "id": "76f48ba8",
   "metadata": {},
   "outputs": [],
   "source": [
    "df.insert(5,'CrimeType',CrimeType)"
   ]
  },
  {
   "cell_type": "code",
   "execution_count": 263,
   "id": "fe5934f1",
   "metadata": {},
   "outputs": [],
   "source": [
    "df['CrimeType'] = le.fit_transform(df['CrimeType'])"
   ]
  },
  {
   "cell_type": "markdown",
   "id": "3bae9e2d",
   "metadata": {},
   "source": [
    "##### Premis Desc Column"
   ]
  },
  {
   "cell_type": "code",
   "execution_count": 264,
   "id": "05c5e707",
   "metadata": {},
   "outputs": [
    {
     "data": {
      "text/plain": [
       "array(['SINGLE FAMILY DWELLING', 'SIDEWALK', 'POLICE FACILITY',\n",
       "       'MULTI-UNIT DWELLING (APARTMENT, DUPLEX, ETC)',\n",
       "       'BEAUTY SUPPLY STORE', 'NIGHT CLUB (OPEN EVENINGS ONLY)',\n",
       "       'DEPARTMENT STORE', 'OTHER BUSINESS', 'STREET', 'PARKING LOT',\n",
       "       'HOTEL', \"COFFEE SHOP (STARBUCKS, COFFEE BEAN, PEET'S, ETC.)\",\n",
       "       'ALLEY', 'CONDOMINIUM/TOWNHOUSE', 'PUBLIC RESTROOM/OUTSIDE*',\n",
       "       'GARAGE/CARPORT', 'MTA BUS',\n",
       "       'NURSING/CONVALESCENT/RETIREMENT HOME', 'MINI-MART',\n",
       "       'VEHICLE, PASSENGER/TRUCK', 'OTHER STORE', 'GROUP HOME',\n",
       "       'MTA - RED LINE - UNION STATION', 'RESTAURANT/FAST FOOD',\n",
       "       'MTA - RED LINE - PERSHING SQUARE', 'DRUG STORE',\n",
       "       'GOVERNMENT FACILITY (FEDERAL,STATE, COUNTY & CITY)',\n",
       "       \"SINGLE RESIDENCE OCCUPANCY (SRO'S) LOCATIONS\",\n",
       "       'PARKING UNDERGROUND/BUILDING', 'MOTEL', 'HOSPITAL', 'DRIVEWAY',\n",
       "       'MARKET', 'LA UNION STATION (NOT LINE SPECIFIC)',\n",
       "       'MISSIONS/SHELTERS', 'BAR/COCKTAIL/NIGHTCLUB', 'TOW YARD*',\n",
       "       'DETENTION/JAIL FACILITY', 'OTHER PREMISE', 'CELL PHONE STORE',\n",
       "       'CLOTHING STORE', 'BANK', 'MTA - BLUE LINE - 7TH AND METRO CENTER',\n",
       "       'OTHER/OUTSIDE', 'STAPLES CENTER *', 'CONSTRUCTION SITE',\n",
       "       'MEDICAL/DENTAL OFFICES', 'MTA - RED LINE - 7TH AND METRO CENTER',\n",
       "       'LIQUOR STORE', 'TOBACCO SHOP', 'HIGH-RISE BUILDING',\n",
       "       'MUNICIPAL BUS LINE INCLUDES LADOT/DASH', 'OTHER RESIDENCE',\n",
       "       'BUS STOP', 'MTA - PURPLE LINE - PERSHING SQUARE', 'JEWELRY STORE',\n",
       "       'BAR/SPORTS BAR (OPEN DAY & NIGHT)', 'LIBRARY',\n",
       "       \"SEX ORIENTED/BOOK STORE/STRIP CLUB/GENTLEMAN'S CLUB\",\n",
       "       'MTA - PURPLE LINE - CIVIC CENTER/GRAND PARK',\n",
       "       'MTA - RED LINE - CIVIC CENTER/GRAND PARK', 'UNDERPASS/BRIDGE*',\n",
       "       'SHOPPING MALL (COMMON AREA)', 'TRANSPORTATION FACILITY (AIRPORT)',\n",
       "       'PARK/PLAYGROUND', 'HEALTH SPA/GYM',\n",
       "       'FRAT HOUSE/SORORITY/DORMITORY', 'YARD (RESIDENTIAL/BUSINESS)',\n",
       "       'PORCH, RESIDENTIAL', 'MTA - GOLD LINE - UNION STATION',\n",
       "       'BEAUTY/BARBER SHOP', 'AMTRAK TRAIN', 'NAIL SALON',\n",
       "       'FURNITURE STORE', '7TH AND METRO CENTER (NOT LINE SPECIFIC)',\n",
       "       'GAS STATION', 'PUBLIC STORAGE',\n",
       "       'COLLEGE/JUNIOR COLLEGE/UNIVERSITY', 'CONVENTION CENTER',\n",
       "       'LAUNDROMAT', 'OFFICE BUILDING/OFFICE',\n",
       "       'ABANDONED BUILDING ABANDONED HOUSE',\n",
       "       'ENTERTAINMENT/COMEDY CLUB (OTHER)',\n",
       "       'MTA - EXPO LINE - 7TH AND METRO CENTER', 'BASKETBALL COURTS',\n",
       "       'OTHER RR TRAIN (UNION PAC, SANTE FE ETC', 'MUSEUM',\n",
       "       'HORSE RACING/SANTA ANITA PARK*', 'TRUCK, COMMERICAL', 'TUNNEL',\n",
       "       'CHURCH/CHAPEL (CHANGED 03-03 FROM CHURCH/TEMPLE)', 'ELEVATOR',\n",
       "       'PHARMACY INSIDE STORE OR SUPERMARKET*',\n",
       "       'MTA PROPERTY OR PARKING LOT', 'HIGH SCHOOL', 'TAXI',\n",
       "       'BUS-CHARTER/PRIVATE', 'JUNIOR HIGH SCHOOL',\n",
       "       'MTA - RED LINE - VERMONT/BEVERLY',\n",
       "       'AUTOMATED TELLER MACHINE (ATM)',\n",
       "       'MTA - RED LINE - WESTLAKE/MACARTHUR PARK', 'SWAP MEET',\n",
       "       'PRIVATE SCHOOL/PRESCHOOL', 'STAIRWELL*', 'FREEWAY',\n",
       "       'ELEMENTARY SCHOOL', 'MTA - RED LINE - VERMONT/SANTA MONICA',\n",
       "       \"DIY CENTER (LOWE'S,HOME DEPOT,OSH,CONTRACTORS WAREHOUSE)\",\n",
       "       'VALET', 'CYBERSPACE', 'SPECIALTY SCHOOL/OTHER',\n",
       "       'AUTO REPAIR SHOP', 'STORAGE SHED',\n",
       "       'DISCOUNT STORE (99 CENT,DOLLAR,ETC.',\n",
       "       'AUTO DEALERSHIP (CHEVY, FORD, BMW, MERCEDES, ETC.)', 'MAIL BOX',\n",
       "       \"MOBILE HOME/TRAILERS/CONSTRUCTION TRAILERS/RV'S/MOTORHOME\",\n",
       "       'APARTMENT/CONDO COMMON LAUNDRY ROOM',\n",
       "       'MTA - EXPO LINE - EXPO/WESTERN', 'AUTO SUPPLY STORE*',\n",
       "       'DELIVERY SERVICE (FED EX, UPS, COURIERS,COURIER SERVICE)*',\n",
       "       'RECYCLING CENTER', 'MTA - EXPO LINE - EXPO/CRENSHAW',\n",
       "       'MTA - EXPO LINE - EXPO/LA BREA',\n",
       "       'PROJECT/TENEMENT/PUBLIC HOUSING', 'HOSPICE',\n",
       "       'TRANSITIONAL HOUSING/HALFWAY HOUSE', 'DAY CARE/CHILDREN*',\n",
       "       'CAR WASH', 'MTA - EXPO LINE - JEFFERSON/USC', 'COLISEUM',\n",
       "       'MTA - EXPO LINE - EXPO/VERMONT',\n",
       "       'MTA - EXPO LINE - EXPO PARK/USC',\n",
       "       'MTA - SILVER LINE - HARBOR GATEWAY TRANSIT CTR', 'WAREHOUSE',\n",
       "       'MTA - GOLD LINE - LINCOLN/CYPRESS',\n",
       "       'TELECOMMUNICATION FACILITY/LOCATION',\n",
       "       'STUDIO (FILM/PHOTOGRAPHIC/MUSIC)', 'CHECK CASHING*', 'PET STORE',\n",
       "       'PATIO*', 'MTA - ORANGE LINE - NORTH HOLLYWOOD', 'BEACH',\n",
       "       'TRANSIENT ENCAMPMENT', 'VACANT LOT', 'TRASH CAN/TRASH DUMPSTER',\n",
       "       'SLIPS/DOCK/MARINA/BOAT', 'BALCONY*', 'MANUFACTURING COMPANY',\n",
       "       'PAWN SHOP', 'VISION CARE FACILITY*', 'NURSERY/FLOWER SHOP',\n",
       "       'METROLINK TRAIN', 'ELECTRONICS STORE (IE:RADIO SHACK, ETC.)',\n",
       "       'THE BEVERLY CONNECTION', 'THE GROVE',\n",
       "       'PUBLIC RESTROOM(INDOORS-INSIDE)', 'FIRE STATION', 'POST OFFICE',\n",
       "       'SYNAGOGUE/TEMPLE', 'MASSAGE PARLOR', 'AUTO SALES LOT',\n",
       "       'GOLF COURSE*', 'HARDWARE/BUILDING SUPPLY',\n",
       "       'MTA - ORANGE LINE - BALBOA', 'THE BEVERLY CENTER', 'DRIVE THRU*',\n",
       "       'TATTOO PARLOR*', 'BOWLING ALLEY*', 'SHORT-TERM VACATION RENTAL',\n",
       "       'MTA - GOLD LINE - HIGHLAND PARK', 'DRIVE THRU BANKING (WINDOW)*',\n",
       "       'EQUIPMENT RENTAL', 'MTA - SILVER LINE - PACIFIC COAST HWY',\n",
       "       'MEMBERSHIP STORE (COSTCO,SAMS CLUB)*', 'DAY CARE/ADULTS*',\n",
       "       'MTA - ORANGE LINE - CHATSWORTH',\n",
       "       \"VEHICLE STORAGE LOT (CARS, TRUCKS, RV'S, BOATS, TRAILERS, ETC.)\",\n",
       "       'CEMETARY*', 'OIL REFINERY',\n",
       "       'SKATEBOARD FACILITY/SKATEBOARD PARK*',\n",
       "       'MTA - RED LINE - VERMONT/SUNSET', 'CLEANER/LAUNDROMAT',\n",
       "       'OTHER INTERSTATE, CHARTER BUS', 'VETERINARIAN/ANIMAL HOSPITAL',\n",
       "       'GUN/SPORTING GOODS', 'BUS, SCHOOL, CHURCH',\n",
       "       'MEDICAL MARIJUANA FACILITIES/BUSINESSES',\n",
       "       'MTA - GREEN LINE - AVIATION/LAX', 'MTA - BLUE LINE - SAN PEDRO',\n",
       "       'WEBSITE', 'MTA - RED LINE - HOLLYWOOD/WESTERN',\n",
       "       'GREYHOUND OR INTERSTATE BUS', 'FINANCE COMPANY', 'CREDIT UNION',\n",
       "       'MTA - RED LINE - NORTH HOLLYWOOD', 'FOSTER HOME BOYS OR GIRLS*',\n",
       "       'MTA - EXPO LINE - EXPO/SEPULVEDA', 'THEATRE/MOVIE',\n",
       "       'MTA - RED LINE - HOLLYWOOD/HIGHLAND',\n",
       "       'MTA - SILVER LINE - ROSECRANS', 'OTHER PLACE OF WORSHIP',\n",
       "       'AIRCRAFT', 'BUS STOP/LAYOVER (ALSO QUERY 124)',\n",
       "       'PEDESTRIAN OVERCROSSING', 'TRAIN TRACKS',\n",
       "       'MTA - EXPO LINE - EXPO/BUNDY', 'MTA - GOLD LINE - CHINATOWN',\n",
       "       'MTA - GOLD LINE - SOTO', 'FACTORY',\n",
       "       'MTA - RED LINE - HOLLYWOOD/VINE',\n",
       "       'ABORTION CLINIC/ABORTION FACILITY*', 'RIVER BED*',\n",
       "       'MTA - ORANGE LINE - RESEDA',\n",
       "       'ARCADE,GAME ROOM/VIDEO GAMES (EXAMPLE CHUCKIE CHEESE)*',\n",
       "       'MTA - EXPO LINE - FARMDALE',\n",
       "       'OPTICAL OFFICE INSIDE STORE OR SUPERMARKET*', 'BOOK STORE',\n",
       "       'MTA - SILVER LINE - HARBOR FWY', 'MTA - ORANGE LINE - TAMPA',\n",
       "       'POOL-PUBLIC/OUTDOOR OR INDOOR*',\n",
       "       'MTA - PURPLE LINE - WESTLAKE/MACARTHUR PARK',\n",
       "       'BANKING INSIDE MARKET-STORE *', 'AMUSEMENT PARK*',\n",
       "       'MTA - EXPO LINE - PALMS', 'TRAIN DEPOT/TERMINAL, OTHER THAN MTA',\n",
       "       'BUS DEPOT/TERMINAL, OTHER THAN MTA', 'SPORTS VENUE, OTHER',\n",
       "       'MTA - GOLD LINE - SOUTHWEST MUSEUM', 'DAM/RESERVOIR',\n",
       "       'ENERGY PLANT/FACILITY', 'MTA - ORANGE LINE - WOODMAN',\n",
       "       'MTA - EXPO LINE - LA CIENEGA/JEFFERSON',\n",
       "       'MTA - SILVER LINE - UNION STATION',\n",
       "       'MTA - PURPLE LINE - 7TH AND METRO CENTER',\n",
       "       'MTA - ORANGE LINE - VAN NUYS',\n",
       "       'TRADE SCHOOL (MEDICAL-TECHNICAL-BUSINESS)*', 'TV/RADIO/APPLIANCE',\n",
       "       'MTA - BLUE LINE - PICO', 'MTA - GOLD LINE - MARIACHI PLAZA',\n",
       "       'MTA - GOLD LINE - INDIANA', 'COMPUTER SERVICES/REPAIRS/SALES',\n",
       "       'MTA - BLUE LINE - GRAND/LATTC', 'MTA - GOLD LINE - PICO/ALISO',\n",
       "       'MORTUARY', 'MTA - PURPLE LINE - UNION STATION',\n",
       "       'ABATEMENT LOCATION', 'SPORTS ARENA',\n",
       "       'MTA - EXPO LINE - WESTWOOD/RANCHO PARK', 'SAVINGS & LOAN',\n",
       "       'TOOL SHED*', 'CATERING/ICE CREAM TRUCK',\n",
       "       'MTA - ORANGE LINE - WOODLEY', 'MTA - GOLD LINE - HERITAGE SQ',\n",
       "       'RECORD-CD MUSIC/COMPUTER GAME STORE', 'MTA - EXPO LINE - PICO',\n",
       "       'ESCALATOR*', 'SEWAGE FACILITY/PIPE', 'DODGER STADIUM',\n",
       "       'CULTURAL SIGNIFICANCE/MONUMENT', 'METHADONE CLINIC', 'PAY PHONE',\n",
       "       'SURPLUS SURVIVAL STORE', 'MTA - SILVER LINE - 37TH ST/USC',\n",
       "       'MTA - SILVER LINE - DOWNTOWN STREET STOPS',\n",
       "       'MTA - ORANGE LINE - SEPULVEDA',\n",
       "       'MTA - EXPO LINE - LATTC/ORTHO INSTITUTE',\n",
       "       'MTA - GOLD LINE - LITTLE TOKYO/ARTS DISTRICT',\n",
       "       'MASS GATHERING LOCATION', 'WATER FACILITY',\n",
       "       'MTA - BLUE LINE - WASHINGTON',\n",
       "       'MTA - ORANGE LINE - VALLEY COLLEGE',\n",
       "       'MTA - ORANGE LINE - SHERMAN WAY', 'TERMINAL, OTHER THAN MTA',\n",
       "       'MTA - PURPLE LINE - WILSHIRE/NORMANDIE',\n",
       "       'MTA - PURPLE LINE - WILSHIRE/WESTERN',\n",
       "       'MTA - RED LINE - WILSHIRE/VERMONT', 'MTA - GREEN LINE - AVALON',\n",
       "       'MTA - BLUE LINE - 103RD/WATTS TOWERS',\n",
       "       'MTA - PURPLE LINE - WILSHIRE/VERMONT',\n",
       "       'MTA - GREEN LINE - HARBOR FWY',\n",
       "       'MTA - RED LINE - UNIVERSAL CITY/STUDIO CITY',\n",
       "       'MTA - BLUE LINE - VERNON', 'MTA - ORANGE LINE - CANOGA',\n",
       "       'HANDBALL COURTS', 'MTA - ORANGE LINE - NORDHOFF',\n",
       "       'BANK DROP BOX/MONEY DROP-OUTSIDE OF BANK*', 'SKATING RINK*',\n",
       "       'MTA - SILVER LINE - SLAUSON', 'MUSCLE BEACH',\n",
       "       'GARMENT MANUFACTURER', 'MTA - ORANGE LINE - LAUREL CANYON',\n",
       "       'MTA - ORANGE LINE - PIERCE COLLEGE', 'MTA - ORANGE LINE - ROSCOE',\n",
       "       'VIDEO RENTAL STORE', 'MOSQUE*', 'MTA - ORANGE LINE - DE SOTO',\n",
       "       'TRAM/STREETCAR(BOXLIKE WAG ON RAILS)*',\n",
       "       'RETIRED (DUPLICATE) DO NOT USE THIS CODE',\n",
       "       'CHEMICAL STORAGE/MANUFACTURING PLANT',\n",
       "       'MTA - SILVER LINE - LAC/USC MEDICAL CENTER',\n",
       "       'DEPT OF DEFENSE FACILITY',\n",
       "       'TRAIN, OTHER THAN MTA (ALSO QUERY 809/810/811)',\n",
       "       'HOCKEY RINK/ICE HOCKEY', 'MTA - SILVER LINE - MANCHESTER',\n",
       "       'HARBOR FRWY STATION (NOT LINE SPECIFIC)'], dtype=object)"
      ]
     },
     "execution_count": 264,
     "metadata": {},
     "output_type": "execute_result"
    }
   ],
   "source": [
    "df['Premis Desc'].unique()"
   ]
  },
  {
   "cell_type": "code",
   "execution_count": 265,
   "id": "60614305",
   "metadata": {},
   "outputs": [
    {
     "data": {
      "text/plain": [
       "0             SINGLE\n",
       "1           SIDEWALK\n",
       "2             POLICE\n",
       "3         MULTI-UNIT\n",
       "4             BEAUTY\n",
       "             ...    \n",
       "752906         OTHER\n",
       "752907      VEHICLE,\n",
       "752908      SIDEWALK\n",
       "752909    LAUNDROMAT\n",
       "752910    MULTI-UNIT\n",
       "Name: Premis Desc, Length: 752911, dtype: object"
      ]
     },
     "execution_count": 265,
     "metadata": {},
     "output_type": "execute_result"
    }
   ],
   "source": [
    "CrimeSituation = df['Premis Desc'].apply(lambda x: x.split(' ')[0])\n",
    "CrimeSituation"
   ]
  },
  {
   "cell_type": "code",
   "execution_count": 266,
   "id": "f11e6338",
   "metadata": {},
   "outputs": [],
   "source": [
    "df.drop(columns=['Premis Desc'], axis=1, inplace=True)"
   ]
  },
  {
   "cell_type": "code",
   "execution_count": 267,
   "id": "1efb4f79",
   "metadata": {},
   "outputs": [],
   "source": [
    "df.insert(5,'CrimeSituation',CrimeSituation)"
   ]
  },
  {
   "cell_type": "code",
   "execution_count": 268,
   "id": "d147d4e6",
   "metadata": {},
   "outputs": [],
   "source": [
    "df['CrimeSituation'] = le.fit_transform(df['CrimeSituation'])"
   ]
  },
  {
   "cell_type": "markdown",
   "id": "5ed9d9ce",
   "metadata": {},
   "source": [
    "##### drop this column"
   ]
  },
  {
   "cell_type": "code",
   "execution_count": 269,
   "id": "57b6cbba",
   "metadata": {},
   "outputs": [],
   "source": [
    " df['Status'].unique()\n",
    "df.drop(columns=['Status'], axis=1, inplace=True)"
   ]
  },
  {
   "cell_type": "markdown",
   "id": "680f72e6",
   "metadata": {},
   "source": [
    "##### Status Desc Column"
   ]
  },
  {
   "cell_type": "code",
   "execution_count": 270,
   "id": "481a8e8e",
   "metadata": {},
   "outputs": [
    {
     "data": {
      "text/plain": [
       "array(['Adult Other', 'Invest Cont', 'Adult Arrest', 'Juv Arrest',\n",
       "       'Juv Other', 'UNK'], dtype=object)"
      ]
     },
     "execution_count": 270,
     "metadata": {},
     "output_type": "execute_result"
    }
   ],
   "source": [
    "df['Status Desc'].unique()"
   ]
  },
  {
   "cell_type": "code",
   "execution_count": 271,
   "id": "01a6c944",
   "metadata": {},
   "outputs": [],
   "source": [
    "ohe = OneHotEncoder(sparse=False)\n",
    "df['Status Desc'] = ohe.fit_transform(df['Status Desc'].values.reshape(-1, 1))"
   ]
  },
  {
   "cell_type": "markdown",
   "id": "5e52580b",
   "metadata": {},
   "source": [
    "##### LOCATION Column"
   ]
  },
  {
   "cell_type": "code",
   "execution_count": 272,
   "id": "3c7aa047",
   "metadata": {},
   "outputs": [
    {
     "data": {
      "text/plain": [
       "array(['1100 W  39TH                         PL',\n",
       "       '700 S  HILL                         ST',\n",
       "       '200 E  6TH                          ST', ...,\n",
       "       '11100    DULCET                       AV',\n",
       "       '3600    COLISEUM                     ST',\n",
       "       '6400 N  FIGUEROAA                    ST'], dtype=object)"
      ]
     },
     "execution_count": 272,
     "metadata": {},
     "output_type": "execute_result"
    }
   ],
   "source": [
    "df['LOCATION'].unique() "
   ]
  },
  {
   "cell_type": "code",
   "execution_count": 273,
   "id": "830344ec",
   "metadata": {},
   "outputs": [],
   "source": [
    "df.drop(columns=['LOCATION'], axis=1, inplace=True)\n",
    "df.drop(columns=['DR_NO'], axis=1, inplace=True)"
   ]
  },
  {
   "cell_type": "code",
   "execution_count": null,
   "id": "1a260107",
   "metadata": {},
   "outputs": [],
   "source": []
  },
  {
   "cell_type": "code",
   "execution_count": 274,
   "id": "adcf6226",
   "metadata": {},
   "outputs": [
    {
     "data": {
      "text/html": [
       "<div>\n",
       "<style scoped>\n",
       "    .dataframe tbody tr th:only-of-type {\n",
       "        vertical-align: middle;\n",
       "    }\n",
       "\n",
       "    .dataframe tbody tr th {\n",
       "        vertical-align: top;\n",
       "    }\n",
       "\n",
       "    .dataframe thead th {\n",
       "        text-align: right;\n",
       "    }\n",
       "</style>\n",
       "<table border=\"1\" class=\"dataframe\">\n",
       "  <thead>\n",
       "    <tr style=\"text-align: right;\">\n",
       "      <th></th>\n",
       "      <th>Date Rptd</th>\n",
       "      <th>DATE OCC</th>\n",
       "      <th>TIME OCC</th>\n",
       "      <th>AREA</th>\n",
       "      <th>CrimeSituation</th>\n",
       "      <th>CrimeType</th>\n",
       "      <th>AREA NAME</th>\n",
       "      <th>Rpt Dist No</th>\n",
       "      <th>Part 1-2</th>\n",
       "      <th>Crm Cd</th>\n",
       "      <th>Vict Age</th>\n",
       "      <th>Premis Cd</th>\n",
       "      <th>Status Desc</th>\n",
       "      <th>Crm Cd 1</th>\n",
       "      <th>LAT</th>\n",
       "      <th>LON</th>\n",
       "    </tr>\n",
       "  </thead>\n",
       "  <tbody>\n",
       "    <tr>\n",
       "      <th>0</th>\n",
       "      <td>2020-01-08</td>\n",
       "      <td>2020-01-08</td>\n",
       "      <td>2230</td>\n",
       "      <td>3</td>\n",
       "      <td>152</td>\n",
       "      <td>3</td>\n",
       "      <td>15</td>\n",
       "      <td>377</td>\n",
       "      <td>2</td>\n",
       "      <td>624</td>\n",
       "      <td>36</td>\n",
       "      <td>501.0</td>\n",
       "      <td>0.0</td>\n",
       "      <td>624.0</td>\n",
       "      <td>34.0141</td>\n",
       "      <td>-118.2978</td>\n",
       "    </tr>\n",
       "    <tr>\n",
       "      <th>1</th>\n",
       "      <td>2020-01-02</td>\n",
       "      <td>2020-01-01</td>\n",
       "      <td>330</td>\n",
       "      <td>1</td>\n",
       "      <td>151</td>\n",
       "      <td>3</td>\n",
       "      <td>1</td>\n",
       "      <td>163</td>\n",
       "      <td>2</td>\n",
       "      <td>624</td>\n",
       "      <td>25</td>\n",
       "      <td>102.0</td>\n",
       "      <td>0.0</td>\n",
       "      <td>624.0</td>\n",
       "      <td>34.0459</td>\n",
       "      <td>-118.2545</td>\n",
       "    </tr>\n",
       "    <tr>\n",
       "      <th>2</th>\n",
       "      <td>2020-04-14</td>\n",
       "      <td>2020-02-13</td>\n",
       "      <td>1200</td>\n",
       "      <td>1</td>\n",
       "      <td>134</td>\n",
       "      <td>66</td>\n",
       "      <td>1</td>\n",
       "      <td>155</td>\n",
       "      <td>2</td>\n",
       "      <td>845</td>\n",
       "      <td>0</td>\n",
       "      <td>726.0</td>\n",
       "      <td>1.0</td>\n",
       "      <td>845.0</td>\n",
       "      <td>34.0448</td>\n",
       "      <td>-118.2474</td>\n",
       "    </tr>\n",
       "    <tr>\n",
       "      <th>3</th>\n",
       "      <td>2020-01-01</td>\n",
       "      <td>2020-01-01</td>\n",
       "      <td>1730</td>\n",
       "      <td>15</td>\n",
       "      <td>113</td>\n",
       "      <td>83</td>\n",
       "      <td>8</td>\n",
       "      <td>1543</td>\n",
       "      <td>2</td>\n",
       "      <td>745</td>\n",
       "      <td>76</td>\n",
       "      <td>502.0</td>\n",
       "      <td>0.0</td>\n",
       "      <td>745.0</td>\n",
       "      <td>34.1685</td>\n",
       "      <td>-118.4019</td>\n",
       "    </tr>\n",
       "    <tr>\n",
       "      <th>4</th>\n",
       "      <td>2020-01-01</td>\n",
       "      <td>2020-01-01</td>\n",
       "      <td>415</td>\n",
       "      <td>19</td>\n",
       "      <td>19</td>\n",
       "      <td>83</td>\n",
       "      <td>7</td>\n",
       "      <td>1998</td>\n",
       "      <td>2</td>\n",
       "      <td>740</td>\n",
       "      <td>31</td>\n",
       "      <td>409.0</td>\n",
       "      <td>0.0</td>\n",
       "      <td>740.0</td>\n",
       "      <td>34.2198</td>\n",
       "      <td>-118.4468</td>\n",
       "    </tr>\n",
       "  </tbody>\n",
       "</table>\n",
       "</div>"
      ],
      "text/plain": [
       "   Date Rptd   DATE OCC  TIME OCC  AREA  CrimeSituation  CrimeType  AREA NAME  \\\n",
       "0 2020-01-08 2020-01-08      2230     3             152          3         15   \n",
       "1 2020-01-02 2020-01-01       330     1             151          3          1   \n",
       "2 2020-04-14 2020-02-13      1200     1             134         66          1   \n",
       "3 2020-01-01 2020-01-01      1730    15             113         83          8   \n",
       "4 2020-01-01 2020-01-01       415    19              19         83          7   \n",
       "\n",
       "   Rpt Dist No  Part 1-2  Crm Cd  Vict Age  Premis Cd  Status Desc  Crm Cd 1  \\\n",
       "0          377         2     624        36      501.0          0.0     624.0   \n",
       "1          163         2     624        25      102.0          0.0     624.0   \n",
       "2          155         2     845         0      726.0          1.0     845.0   \n",
       "3         1543         2     745        76      502.0          0.0     745.0   \n",
       "4         1998         2     740        31      409.0          0.0     740.0   \n",
       "\n",
       "       LAT       LON  \n",
       "0  34.0141 -118.2978  \n",
       "1  34.0459 -118.2545  \n",
       "2  34.0448 -118.2474  \n",
       "3  34.1685 -118.4019  \n",
       "4  34.2198 -118.4468  "
      ]
     },
     "execution_count": 274,
     "metadata": {},
     "output_type": "execute_result"
    }
   ],
   "source": [
    "df.head()"
   ]
  },
  {
   "cell_type": "code",
   "execution_count": 275,
   "id": "d26bac98",
   "metadata": {},
   "outputs": [],
   "source": [
    "data = df.copy()"
   ]
  },
  {
   "cell_type": "code",
   "execution_count": 276,
   "id": "21d47c2e",
   "metadata": {},
   "outputs": [],
   "source": [
    "data.drop(columns=['Date Rptd','DATE OCC'],axis=1, inplace=True)"
   ]
  },
  {
   "cell_type": "code",
   "execution_count": 277,
   "id": "10221631",
   "metadata": {},
   "outputs": [
    {
     "data": {
      "text/plain": [
       "14"
      ]
     },
     "execution_count": 277,
     "metadata": {},
     "output_type": "execute_result"
    }
   ],
   "source": [
    "len(data.columns)"
   ]
  },
  {
   "cell_type": "markdown",
   "id": "691b31ab",
   "metadata": {},
   "source": [
    "### Vizulation data"
   ]
  },
  {
   "cell_type": "code",
   "execution_count": 278,
   "id": "72766eaf",
   "metadata": {},
   "outputs": [
    {
     "data": {
      "text/plain": [
       "<AxesSubplot:xlabel='AREA', ylabel='Count'>"
      ]
     },
     "execution_count": 278,
     "metadata": {},
     "output_type": "execute_result"
    },
    {
     "data": {
      "image/png": "[encoded data removed]",
      "text/plain": [
       "<Figure size 864x432 with 1 Axes>"
      ]
     },
     "metadata": {},
     "output_type": "display_data"
    }
   ],
   "source": [
    "fig = plt.figure(figsize=(12, 6))\n",
    "sns.histplot(data['AREA'])"
   ]
  },
  {
   "cell_type": "code",
   "execution_count": 279,
   "id": "6d776917",
   "metadata": {},
   "outputs": [
    {
     "data": {
      "text/plain": [
       "<AxesSubplot:xlabel='CrimeSituation', ylabel='Count'>"
      ]
     },
     "execution_count": 279,
     "metadata": {},
     "output_type": "execute_result"
    },
    {
     "data": {
      "image/png": "[encoded data removed]",
      "text/plain": [
       "<Figure size 1440x720 with 1 Axes>"
      ]
     },
     "metadata": {},
     "output_type": "display_data"
    }
   ],
   "source": [
    "plt.figure(figsize=(20,10))\n",
    "sns.histplot(data['CrimeSituation'])"
   ]
  },
  {
   "cell_type": "code",
   "execution_count": 280,
   "id": "7c289d4c",
   "metadata": {},
   "outputs": [
    {
     "data": {
      "text/plain": [
       "<AxesSubplot:xlabel='AREA', ylabel='CrimeSituation'>"
      ]
     },
     "execution_count": 280,
     "metadata": {},
     "output_type": "execute_result"
    },
    {
     "data": {
      "image/png": "[encoded data removed]",
      "text/plain": [
       "<Figure size 864x432 with 1 Axes>"
      ]
     },
     "metadata": {},
     "output_type": "display_data"
    }
   ],
   "source": [
    "fig = plt.figure(figsize=(12,6))\n",
    "sns.boxplot(x= data['AREA'], y=data['CrimeSituation'])\n"
   ]
  },
  {
   "cell_type": "code",
   "execution_count": 281,
   "id": "099c8bc1",
   "metadata": {},
   "outputs": [
    {
     "data": {
      "text/plain": [
       "<AxesSubplot:xlabel='AREA', ylabel='Vict Age'>"
      ]
     },
     "execution_count": 281,
     "metadata": {},
     "output_type": "execute_result"
    },
    {
     "data": {
      "image/png": "[encoded data removed]",
      "text/plain": [
       "<Figure size 864x432 with 1 Axes>"
      ]
     },
     "metadata": {},
     "output_type": "display_data"
    }
   ],
   "source": [
    "fig = plt.figure(figsize=(12,6))\n",
    "sns.boxplot(x= data['AREA'], y=data['Vict Age'])"
   ]
  },
  {
   "cell_type": "code",
   "execution_count": 282,
   "id": "12279144",
   "metadata": {},
   "outputs": [
    {
     "data": {
      "text/plain": [
       "<AxesSubplot:xlabel='AREA', ylabel='CrimeType'>"
      ]
     },
     "execution_count": 282,
     "metadata": {},
     "output_type": "execute_result"
    },
    {
     "data": {
      "image/png": "[encoded data removed]",
      "text/plain": [
       "<Figure size 864x432 with 1 Axes>"
      ]
     },
     "metadata": {},
     "output_type": "display_data"
    }
   ],
   "source": [
    "fig = plt.figure(figsize=(12,6))\n",
    "sns.boxplot(x= data['AREA'], y=data['CrimeType'])"
   ]
  },
  {
   "cell_type": "code",
   "execution_count": 283,
   "id": "231e9679",
   "metadata": {},
   "outputs": [
    {
     "data": {
      "text/plain": [
       "<AxesSubplot:ylabel='AREA'>"
      ]
     },
     "execution_count": 283,
     "metadata": {},
     "output_type": "execute_result"
    },
    {
     "data": {
      "image/png": "[encoded data removed]",
      "text/plain": [
       "<Figure size 576x396 with 1 Axes>"
      ]
     },
     "metadata": {},
     "output_type": "display_data"
    }
   ],
   "source": [
    "sns.boxplot(y = data['AREA'])"
   ]
  },
  {
   "cell_type": "code",
   "execution_count": 284,
   "id": "0df78c09",
   "metadata": {},
   "outputs": [],
   "source": [
    "sns.pairplot(data)"
   ]
  },
  {
   "cell_type": "markdown",
   "id": "ffc4a8ff",
   "metadata": {},
   "source": [
    "### Split Data"
   ]
  },
  {
   "cell_type": "code",
   "execution_count": 285,
   "id": "2415ec54",
   "metadata": {},
   "outputs": [],
   "source": [
    "y = data.pop('Premis Cd')"
   ]
  },
  {
   "cell_type": "code",
   "execution_count": 286,
   "id": "50aa4ecc",
   "metadata": {},
   "outputs": [
    {
     "data": {
      "text/plain": [
       "(752911,)"
      ]
     },
     "execution_count": 286,
     "metadata": {},
     "output_type": "execute_result"
    }
   ],
   "source": [
    "y.shape"
   ]
  },
  {
   "cell_type": "code",
   "execution_count": 287,
   "id": "c32ff963",
   "metadata": {},
   "outputs": [],
   "source": [
    "x = data"
   ]
  },
  {
   "cell_type": "code",
   "execution_count": 288,
   "id": "16d1b1d8",
   "metadata": {},
   "outputs": [
    {
     "data": {
      "text/plain": [
       "(752911, 13)"
      ]
     },
     "execution_count": 288,
     "metadata": {},
     "output_type": "execute_result"
    }
   ],
   "source": [
    "x.shape"
   ]
  },
  {
   "cell_type": "markdown",
   "id": "213a2dad",
   "metadata": {},
   "source": [
    "#### Correlation using  mutual information"
   ]
  },
  {
   "cell_type": "code",
   "execution_count": 289,
   "id": "36051812",
   "metadata": {},
   "outputs": [],
   "source": [
    "selector = SelectKBest(mutual_info_regression, k= 6)"
   ]
  },
  {
   "cell_type": "code",
   "execution_count": 290,
   "id": "25178ef7",
   "metadata": {},
   "outputs": [
    {
     "data": {
      "text/plain": [
       "SelectKBest(k=6,\n",
       "            score_func=<function mutual_info_regression at 0x0000015EF8363DC0>)"
      ]
     },
     "execution_count": 290,
     "metadata": {},
     "output_type": "execute_result"
    }
   ],
   "source": [
    "selector.fit(x,y)"
   ]
  },
  {
   "cell_type": "code",
   "execution_count": 291,
   "id": "65368698",
   "metadata": {},
   "outputs": [
    {
     "data": {
      "text/plain": [
       "array([[ 1.520000e+02,  3.000000e+00,  3.770000e+02,  6.240000e+02,\n",
       "         6.240000e+02, -1.182978e+02],\n",
       "       [ 1.510000e+02,  3.000000e+00,  1.630000e+02,  6.240000e+02,\n",
       "         6.240000e+02, -1.182545e+02],\n",
       "       [ 1.340000e+02,  6.600000e+01,  1.550000e+02,  8.450000e+02,\n",
       "         8.450000e+02, -1.182474e+02],\n",
       "       ...,\n",
       "       [ 1.510000e+02,  1.000000e+00,  1.602000e+03,  2.300000e+02,\n",
       "         2.300000e+02, -1.184116e+02],\n",
       "       [ 9.300000e+01,  1.000000e+00,  1.239000e+03,  2.300000e+02,\n",
       "         2.300000e+02, -1.182915e+02],\n",
       "       [ 1.130000e+02,  8.300000e+01,  9.140000e+02,  7.450000e+02,\n",
       "         7.450000e+02, -1.184487e+02]])"
      ]
     },
     "execution_count": 291,
     "metadata": {},
     "output_type": "execute_result"
    }
   ],
   "source": [
    "selector.transform(x)"
   ]
  },
  {
   "cell_type": "code",
   "execution_count": 292,
   "id": "e3f7f600",
   "metadata": {},
   "outputs": [
    {
     "data": {
      "text/plain": [
       "Index(['CrimeSituation', 'CrimeType', 'Rpt Dist No', 'Crm Cd', 'Crm Cd 1',\n",
       "       'LON'],\n",
       "      dtype='object')"
      ]
     },
     "execution_count": 292,
     "metadata": {},
     "output_type": "execute_result"
    }
   ],
   "source": [
    "x.columns[selector.get_support()]"
   ]
  },
  {
   "cell_type": "code",
   "execution_count": 293,
   "id": "181a422f",
   "metadata": {},
   "outputs": [],
   "source": [
    "x = data[['CrimeSituation', 'CrimeType', 'Rpt Dist No', 'Crm Cd', 'Crm Cd 1',\n",
    "       'LON']]"
   ]
  },
  {
   "cell_type": "code",
   "execution_count": 294,
   "id": "b734c608",
   "metadata": {},
   "outputs": [
    {
     "data": {
      "text/html": [
       "<div>\n",
       "<style scoped>\n",
       "    .dataframe tbody tr th:only-of-type {\n",
       "        vertical-align: middle;\n",
       "    }\n",
       "\n",
       "    .dataframe tbody tr th {\n",
       "        vertical-align: top;\n",
       "    }\n",
       "\n",
       "    .dataframe thead th {\n",
       "        text-align: right;\n",
       "    }\n",
       "</style>\n",
       "<table border=\"1\" class=\"dataframe\">\n",
       "  <thead>\n",
       "    <tr style=\"text-align: right;\">\n",
       "      <th></th>\n",
       "      <th>CrimeSituation</th>\n",
       "      <th>CrimeType</th>\n",
       "      <th>Rpt Dist No</th>\n",
       "      <th>Crm Cd</th>\n",
       "      <th>Crm Cd 1</th>\n",
       "      <th>LON</th>\n",
       "    </tr>\n",
       "  </thead>\n",
       "  <tbody>\n",
       "    <tr>\n",
       "      <th>0</th>\n",
       "      <td>152</td>\n",
       "      <td>3</td>\n",
       "      <td>377</td>\n",
       "      <td>624</td>\n",
       "      <td>624.0</td>\n",
       "      <td>-118.2978</td>\n",
       "    </tr>\n",
       "    <tr>\n",
       "      <th>1</th>\n",
       "      <td>151</td>\n",
       "      <td>3</td>\n",
       "      <td>163</td>\n",
       "      <td>624</td>\n",
       "      <td>624.0</td>\n",
       "      <td>-118.2545</td>\n",
       "    </tr>\n",
       "    <tr>\n",
       "      <th>2</th>\n",
       "      <td>134</td>\n",
       "      <td>66</td>\n",
       "      <td>155</td>\n",
       "      <td>845</td>\n",
       "      <td>845.0</td>\n",
       "      <td>-118.2474</td>\n",
       "    </tr>\n",
       "    <tr>\n",
       "      <th>3</th>\n",
       "      <td>113</td>\n",
       "      <td>83</td>\n",
       "      <td>1543</td>\n",
       "      <td>745</td>\n",
       "      <td>745.0</td>\n",
       "      <td>-118.4019</td>\n",
       "    </tr>\n",
       "    <tr>\n",
       "      <th>4</th>\n",
       "      <td>19</td>\n",
       "      <td>83</td>\n",
       "      <td>1998</td>\n",
       "      <td>740</td>\n",
       "      <td>740.0</td>\n",
       "      <td>-118.4468</td>\n",
       "    </tr>\n",
       "    <tr>\n",
       "      <th>...</th>\n",
       "      <td>...</td>\n",
       "      <td>...</td>\n",
       "      <td>...</td>\n",
       "      <td>...</td>\n",
       "      <td>...</td>\n",
       "      <td>...</td>\n",
       "    </tr>\n",
       "    <tr>\n",
       "      <th>752906</th>\n",
       "      <td>124</td>\n",
       "      <td>12</td>\n",
       "      <td>1548</td>\n",
       "      <td>662</td>\n",
       "      <td>662.0</td>\n",
       "      <td>-118.3643</td>\n",
       "    </tr>\n",
       "    <tr>\n",
       "      <th>752907</th>\n",
       "      <td>190</td>\n",
       "      <td>83</td>\n",
       "      <td>1663</td>\n",
       "      <td>740</td>\n",
       "      <td>740.0</td>\n",
       "      <td>-118.4054</td>\n",
       "    </tr>\n",
       "    <tr>\n",
       "      <th>752908</th>\n",
       "      <td>151</td>\n",
       "      <td>1</td>\n",
       "      <td>1602</td>\n",
       "      <td>230</td>\n",
       "      <td>230.0</td>\n",
       "      <td>-118.4116</td>\n",
       "    </tr>\n",
       "    <tr>\n",
       "      <th>752909</th>\n",
       "      <td>93</td>\n",
       "      <td>1</td>\n",
       "      <td>1239</td>\n",
       "      <td>230</td>\n",
       "      <td>230.0</td>\n",
       "      <td>-118.2915</td>\n",
       "    </tr>\n",
       "    <tr>\n",
       "      <th>752910</th>\n",
       "      <td>113</td>\n",
       "      <td>83</td>\n",
       "      <td>914</td>\n",
       "      <td>745</td>\n",
       "      <td>745.0</td>\n",
       "      <td>-118.4487</td>\n",
       "    </tr>\n",
       "  </tbody>\n",
       "</table>\n",
       "<p>752911 rows × 6 columns</p>\n",
       "</div>"
      ],
      "text/plain": [
       "        CrimeSituation  CrimeType  Rpt Dist No  Crm Cd  Crm Cd 1       LON\n",
       "0                  152          3          377     624     624.0 -118.2978\n",
       "1                  151          3          163     624     624.0 -118.2545\n",
       "2                  134         66          155     845     845.0 -118.2474\n",
       "3                  113         83         1543     745     745.0 -118.4019\n",
       "4                   19         83         1998     740     740.0 -118.4468\n",
       "...                ...        ...          ...     ...       ...       ...\n",
       "752906             124         12         1548     662     662.0 -118.3643\n",
       "752907             190         83         1663     740     740.0 -118.4054\n",
       "752908             151          1         1602     230     230.0 -118.4116\n",
       "752909              93          1         1239     230     230.0 -118.2915\n",
       "752910             113         83          914     745     745.0 -118.4487\n",
       "\n",
       "[752911 rows x 6 columns]"
      ]
     },
     "execution_count": 294,
     "metadata": {},
     "output_type": "execute_result"
    }
   ],
   "source": [
    "x"
   ]
  },
  {
   "cell_type": "code",
   "execution_count": 295,
   "id": "e8c5a86e",
   "metadata": {},
   "outputs": [],
   "source": [
    "y = y.values.reshape(-1,1)"
   ]
  },
  {
   "cell_type": "code",
   "execution_count": 296,
   "id": "fbeefa52",
   "metadata": {},
   "outputs": [],
   "source": [
    "x_train,x_test,y_train,y_test = train_test_split(x,y, test_size= 0.3)"
   ]
  },
  {
   "cell_type": "code",
   "execution_count": 297,
   "id": "b441cd17",
   "metadata": {},
   "outputs": [
    {
     "name": "stdout",
     "output_type": "stream",
     "text": [
      "(527037, 6) (527037, 1) (225874, 6) (225874, 1)\n"
     ]
    }
   ],
   "source": [
    "print(x_train.shape,y_train.shape,x_test.shape,y_test.shape)"
   ]
  },
  {
   "cell_type": "code",
   "execution_count": null,
   "id": "90eeed47",
   "metadata": {},
   "outputs": [],
   "source": []
  },
  {
   "cell_type": "markdown",
   "id": "c4091708",
   "metadata": {},
   "source": [
    "## Decision Tree Regression "
   ]
  },
  {
   "cell_type": "code",
   "execution_count": 298,
   "id": "9ce23af1",
   "metadata": {},
   "outputs": [],
   "source": [
    "dec = DecisionTreeRegressor().fit(x_train,y_train)"
   ]
  },
  {
   "cell_type": "code",
   "execution_count": 299,
   "id": "aa485ecc",
   "metadata": {},
   "outputs": [
    {
     "name": "stdout",
     "output_type": "stream",
     "text": [
      "Training R_SQ:0.994\n"
     ]
    }
   ],
   "source": [
    "print('Training R_SQ:%.3f'% dec.score(x_train,y_train))"
   ]
  },
  {
   "cell_type": "markdown",
   "id": "8eb19379",
   "metadata": {},
   "source": [
    "#### Training Model Evaluation "
   ]
  },
  {
   "cell_type": "code",
   "execution_count": 300,
   "id": "a512c46b",
   "metadata": {},
   "outputs": [],
   "source": [
    "y_train_prd = dec.predict(x_train)"
   ]
  },
  {
   "cell_type": "code",
   "execution_count": 301,
   "id": "ff538caf",
   "metadata": {},
   "outputs": [
    {
     "name": "stdout",
     "output_type": "stream",
     "text": [
      "r_sq: 0.9937683595647944 the MAE: 1.6508867796709121 the MsE: 292.7885638159966 The EVS: 0.9937683595647944\n"
     ]
    }
   ],
   "source": [
    "print('r_sq:',r2_score(y_train,y_train_prd),\n",
    "    'the MAE:',mean_absolute_error(y_train,y_train_prd),\n",
    "    'the MsE:',mean_squared_error(y_train,y_train_prd),\n",
    "    'The EVS:',explained_variance_score(y_train,y_train_prd))"
   ]
  },
  {
   "cell_type": "markdown",
   "id": "53022cfd",
   "metadata": {},
   "source": [
    "#### Test Model Evaluation "
   ]
  },
  {
   "cell_type": "code",
   "execution_count": 302,
   "id": "fe56848b",
   "metadata": {},
   "outputs": [],
   "source": [
    "y_test_pred = dec.predict(x_test)"
   ]
  },
  {
   "cell_type": "code",
   "execution_count": 303,
   "id": "6f4930e3",
   "metadata": {},
   "outputs": [
    {
     "name": "stdout",
     "output_type": "stream",
     "text": [
      "Training R_SQ:1.000\n"
     ]
    }
   ],
   "source": [
    "print('Training R_SQ:%.3f'% dec.score(x_test,y_test_pred))"
   ]
  },
  {
   "cell_type": "code",
   "execution_count": 304,
   "id": "7422c9ac",
   "metadata": {},
   "outputs": [
    {
     "name": "stdout",
     "output_type": "stream",
     "text": [
      "r_sq: 0.9336679795279039 the MAE: 8.729016053594046 the MsE: 3121.734408913013 The EVS: 0.9336680276679086\n"
     ]
    }
   ],
   "source": [
    "print('r_sq:',r2_score(y_test,y_test_pred),\n",
    "    'the MAE:',mean_absolute_error(y_test,y_test_pred),\n",
    "    'the MsE:',mean_squared_error(y_test,y_test_pred),\n",
    "    'The EVS:',explained_variance_score(y_test,y_test_pred))"
   ]
  },
  {
   "cell_type": "markdown",
   "id": "569e3087",
   "metadata": {},
   "source": [
    "###### Prediction Eror"
   ]
  },
  {
   "cell_type": "code",
   "execution_count": 309,
   "id": "a08ed829",
   "metadata": {},
   "outputs": [
    {
     "data": {
      "image/png": "[encoded data removed]",
      "text/plain": [
       "<Figure size 576x396 with 1 Axes>"
      ]
     },
     "metadata": {},
     "output_type": "display_data"
    },
    {
     "data": {
      "text/plain": [
       "<AxesSubplot:title={'center':'Prediction Error for DecisionTreeRegressor'}, xlabel='$y$', ylabel='$\\\\hat{y}$'>"
      ]
     },
     "execution_count": 309,
     "metadata": {},
     "output_type": "execute_result"
    }
   ],
   "source": [
    "vizuluater = PredictionError(dec)\n",
    "vizuluater.fit(x_train,y_train)\n",
    "vizuluater.score(x_test,y_test)\n",
    "vizuluater.poof()"
   ]
  },
  {
   "cell_type": "markdown",
   "id": "47863696",
   "metadata": {},
   "source": [
    "###### k-fold Cross Validation "
   ]
  },
  {
   "cell_type": "code",
   "execution_count": 321,
   "id": "5db06b0d",
   "metadata": {},
   "outputs": [],
   "source": [
    "#Train\n",
    "score_train = cross_val_score(dec,x_train,y_train,scoring='neg_mean_squared_error',cv=16)"
   ]
  },
  {
   "cell_type": "code",
   "execution_count": 322,
   "id": "f8b2881b",
   "metadata": {},
   "outputs": [],
   "source": [
    "score_train = np.mean(score_train)"
   ]
  },
  {
   "cell_type": "code",
   "execution_count": 323,
   "id": "1d1c8aff",
   "metadata": {},
   "outputs": [
    {
     "data": {
      "text/plain": [
       "-3121.9665143772595"
      ]
     },
     "execution_count": 323,
     "metadata": {},
     "output_type": "execute_result"
    }
   ],
   "source": [
    "score_train"
   ]
  },
  {
   "cell_type": "code",
   "execution_count": 329,
   "id": "2fb22273",
   "metadata": {},
   "outputs": [
    {
     "data": {
      "text/plain": [
       "3121.9665143772595"
      ]
     },
     "execution_count": 329,
     "metadata": {},
     "output_type": "execute_result"
    }
   ],
   "source": [
    "#To make it Positive\n",
    "score_train = absolute(score_train)\n",
    "score_train"
   ]
  },
  {
   "cell_type": "code",
   "execution_count": 335,
   "id": "f13ab17e",
   "metadata": {},
   "outputs": [],
   "source": [
    "#Test\n",
    "score_test = cross_val_score(dec,x_test,y_test,scoring='neg_mean_squared_error',cv=16)"
   ]
  },
  {
   "cell_type": "code",
   "execution_count": 336,
   "id": "266a4d61",
   "metadata": {},
   "outputs": [
    {
     "data": {
      "text/plain": [
       "-3411.047652805715"
      ]
     },
     "execution_count": 336,
     "metadata": {},
     "output_type": "execute_result"
    }
   ],
   "source": [
    "score_test = np.mean(score_test)\n",
    "score_test"
   ]
  },
  {
   "cell_type": "code",
   "execution_count": 337,
   "id": "47256073",
   "metadata": {},
   "outputs": [
    {
     "data": {
      "text/plain": [
       "3411.047652805715"
      ]
     },
     "execution_count": 337,
     "metadata": {},
     "output_type": "execute_result"
    }
   ],
   "source": [
    "#To make it Positive\n",
    "score_test = absolute(score_test)\n",
    "score_test"
   ]
  }
 ],
 "metadata": {
  "kernelspec": {
   "display_name": "ml",
   "language": "python",
   "name": "ml"
  },
  "language_info": {
   "codemirror_mode": {
    "name": "ipython",
    "version": 3
   },
   "file_extension": ".py",
   "mimetype": "text/x-python",
   "name": "python",
   "nbconvert_exporter": "python",
   "pygments_lexer": "ipython3",
   "version": "3.9.12"
  }
 },
 "nbformat": 4,
 "nbformat_minor": 5
}
